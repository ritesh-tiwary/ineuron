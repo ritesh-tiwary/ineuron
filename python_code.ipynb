{
  "nbformat": 4,
  "nbformat_minor": 0,
  "metadata": {
    "colab": {
      "name": "python-code.ipynb",
      "provenance": [],
      "authorship_tag": "ABX9TyOUZb27pquZGoqbWKPXZhhK",
      "include_colab_link": true
    },
    "kernelspec": {
      "name": "python3",
      "display_name": "Python 3"
    },
    "language_info": {
      "name": "python"
    }
  },
  "cells": [
    {
      "cell_type": "markdown",
      "metadata": {
        "id": "view-in-github",
        "colab_type": "text"
      },
      "source": [
        "<a href=\"https://colab.research.google.com/github/ritesh-tiwary/ineuron/blob/main/python_code.ipynb\" target=\"_parent\"><img src=\"https://colab.research.google.com/assets/colab-badge.svg\" alt=\"Open In Colab\"/></a>"
      ]
    },
    {
      "cell_type": "markdown",
      "source": [
        "# Python Code"
      ],
      "metadata": {
        "id": "TsuDtPdQXerY"
      }
    },
    {
      "cell_type": "code",
      "execution_count": null,
      "metadata": {
        "id": "1ogMnFEnXZRG"
      },
      "outputs": [],
      "source": [
        "streamLogger/config.py\n",
        "\n",
        "import os\n",
        "\n",
        "# Statement for enabling the development environment\n",
        "DEBUG = True\n",
        "\n",
        "# Define the application directory\n",
        "BASE_DIR = os.path.abspath(os.path.dirname(__file__))\n",
        "\n",
        "# Application threads. A common general assumption is\n",
        "# using 2 per available processor cores - to handle\n",
        "# incoming requests using one and performing background\n",
        "# operations using the other.\n",
        "THREADS_PER_PAGE = 2\n",
        "\n",
        "# Enable protection against *Cross-site Request Forgery (CSRF)*\n",
        "CSRF_ENABLED = True\n",
        "\n",
        "# Use a secure, unique and absolutely secret key for\n",
        "# signing the data.\n",
        "CSRF_SESSION_KEY = \"secret\"\n",
        "\n"
      ]
    },
    {
      "cell_type": "code",
      "source": [
        "streamLogger/run.py\n",
        "# Run a test server.\n",
        "from app import app\n",
        "app.run(host='0.0.0.0', port=3000, debug=True)\n",
        "\n"
      ],
      "metadata": {
        "id": "TsOBbZVFX1Bt"
      },
      "execution_count": null,
      "outputs": []
    },
    {
      "cell_type": "code",
      "source": [
        "app/__init__.py\n",
        "\n",
        "import json\n",
        "from datetime import datetime, date\n",
        "from flask import Flask, request, render_template\n",
        "\n",
        "# Define the WSGI application object\n",
        "app = Flask(__name__)\n",
        "\n",
        "# Configurations\n",
        "app.config.from_object('config')\n",
        "\n",
        "d = date.today().strftime(\"%d-%b-%Y\")\n",
        "y = date.today().strftime(\"%Y\")\n",
        "\n",
        "\n",
        "@app.route('/')\n",
        "def index():\n",
        "    try:\n",
        "        with open(\"app/logs/\".__add__(y).__add__(\"/\").__add__(d).__add__(\".json\")) as f:\n",
        "            data = json.load(f)\n",
        "    except FileNotFoundError:\n",
        "        data = []\n",
        "    return render_template('index.html', data=data, utc_dt=datetime.utcnow())\n",
        "\n",
        "\n",
        "@app.route(\"/logs\", methods=[\"post\"])\n",
        "def logs():\n",
        "    try:\n",
        "        logs = []\n",
        "        log = request.data\n",
        "        with open(\"app/logs/\".__add__(y).__add__(\"/\").__add__(d).__add__(\".json\")) as f:\n",
        "            logs = json.load(f)\n",
        "        logs.append(json.loads(log))\n",
        "        with open(\"app/logs/\".__add__(y).__add__(\"/\").__add__(d).__add__(\".json\"), \"w\") as f:\n",
        "            json.dump(logs, f, indent=4, separators=(',', ': '))\n",
        "    except FileNotFoundError:\n",
        "        logs.append(json.loads(log))\n",
        "        with open(\"app/logs/\".__add__(y).__add__(\"/\").__add__(d).__add__(\".json\"), \"w\") as f:\n",
        "            json.dump(logs, f, indent=4, separators=(',', ': '))\n",
        "    return \"OK\", 200\n",
        "\n",
        "\n",
        "# Sample HTTP error handling\n",
        "@app.errorhandler(404)\n",
        "def not_found(error):\n",
        "    return render_template('404.html'), 404\n",
        "\n"
      ],
      "metadata": {
        "id": "zsKfAZGx_uLB"
      },
      "execution_count": null,
      "outputs": []
    },
    {
      "cell_type": "code",
      "source": [
        "streamLogger/streamLogger.py\n",
        "\n",
        "import json\n",
        "import logging\n",
        "import requests\n",
        "\n",
        "class RequestsHandler(logging.Handler):\n",
        "    def emit(self, record):\n",
        "        log = self.format(record)\n",
        "        # response = requests.post('http://localhost:3000/logs', headers={\"Content-type\": \"application/json\"}, data=log)\n",
        "        # print(\"Status Code\", response.status_code)\n",
        "        print(log)\n",
        "        return requests.post('http://localhost:3000/logs',\n",
        "                             headers={\"Content-type\": \"application/json\"},\n",
        "                             data=log).content\n",
        "\n",
        "\n",
        "class FormatterLogger(logging.Formatter):\n",
        "    def __init__(self, task_name=None):\n",
        "        super(FormatterLogger, self).__init__()\n",
        "\n",
        "    def format(self, record):\n",
        "        data = {'@message': record.msg,\n",
        "                '@funcName': record.funcName,\n",
        "                '@exc_text': record.exc_text,\n",
        "                '@lineno': 0 if record.exc_text is None else record.lineno,\n",
        "                '@exc_info': record.exc_info,\n",
        "                }\n",
        "\n",
        "        return json.dumps(data)\n",
        "\n",
        "\n",
        "def custom_logger(name):\n",
        "    logger = logging.getLogger(name)\n",
        "    custom_handler = RequestsHandler()\n",
        "    formatter = FormatterLogger(logger)\n",
        "    custom_handler.setFormatter(formatter)\n",
        "    logger.addHandler(custom_handler)\n",
        "    return logger\n",
        "\n",
        "\n",
        "logger = custom_logger(\"ECA\")\n",
        "logger.exception(\"ECA - Job Failed\")\n",
        "logger.exception(\"ECA - Job Completed Successfully\")\n"
      ],
      "metadata": {
        "id": "isFdi8ei_-6x"
      },
      "execution_count": null,
      "outputs": []
    },
    {
      "cell_type": "code",
      "source": [
        "streamLogger/app/templates/index.html\n",
        "\n",
        "{% extends 'base.html' %}\n",
        "\n",
        "{% block content %}\n",
        "<!--    <h1>{% block title %} Index {% endblock %}</h1>-->\n",
        "<!--    <h1>Hello World!</h1>-->\n",
        "<!--    <h2>Welcome to FlaskApp!</h2>-->\n",
        "    <h3 style=\"margin-left: 20px;\">UTC Time: {{ utc_dt }}</h3>\n",
        "    <div style=\"width: 100%; margin: auto\">\n",
        "        <div style=\"display: flex; padding: 10px; background-color: #e7f9ff; margin: 20px\">\n",
        "            <div style=\"width: 25%; display: inline-block; font-weight: bold;><p style=\"font-size: 100px\"> Message </p></div>\n",
        "            <div style=\"width: 20%; display: inline-block; font-weight: bold;><p style=\"font-size: 32px\"> Method Name </p></div>\n",
        "            <div style=\"width: 20%; display: inline-block; font-weight: bold;><p style=\"font-size: 32px\"> Exception Text </p></div>\n",
        "            <div style=\"width: 10%; display: inline-block; font-weight: bold;><p style=\"font-size: 32px\"> Line No </p></div>\n",
        "            <div style=\"width: 25%; display: inline-block; font-weight: bold;><p style=\"font-size: 32px\"> Traceback </p></div>\n",
        "        </div>\n",
        "        {% for d in data %}\n",
        "            {% if loop.index % 2 == 0 %}\n",
        "                    {% set bg_color = '#e6f9ff' %}\n",
        "                {% else %}\n",
        "                    {% set bg_color = '#eee' %}\n",
        "                {% endif %}\n",
        "\n",
        "                <div style=\"display: flex; padding: 10px; background-color: {{ bg_color }}; margin: 20px\">\n",
        "                    <div style=\"width: 25%; display: inline-block;><p style=\"font-size: 24px\"> {{ d[\"@message\"] }} </p></div>\n",
        "                    <div style=\"width: 20%; display: inline-block;><p style=\"font-size: 24px\"> {{ d[\"@funcName\"] }} </p></div>\n",
        "                    <div style=\"width: 20%; display: inline-block;><p style=\"font-size: 24px\"> {{ d[\"@exc_text\"] }} </p></div>\n",
        "                    <div style=\"width: 10%; display: inline-block;><p style=\"font-size: 24px\"> {{ d[\"@lineno\"] }}   </p></div>\n",
        "                    <div style=\"width: 25%; display: inline-block;><p style=\"font-size: 24px\"> {{ d[\"@exc_info\"] }} </p></div>\n",
        "                </div>\n",
        "        {% endfor %}\n",
        "    </div>\n",
        "{% endblock %}\n",
        "\n"
      ],
      "metadata": {
        "id": "_YARXBUVADyw"
      },
      "execution_count": null,
      "outputs": []
    },
    {
      "cell_type": "code",
      "source": [
        "streamLogger/app/templates/base.html\n",
        "\n",
        "<!DOCTYPE html>\n",
        "<html lang=\"en\">\n",
        "<head>\n",
        "    <meta charset=\"UTF-8\">\n",
        "    <title>{% block title %} {% endblock %} - FlaskApp</title>\n",
        "    <style>\n",
        "        nav a {\n",
        "            color: #d64161;\n",
        "            font-size: 3em;\n",
        "            margin-left: 20px;\n",
        "            text-decoration: none;\n",
        "        }\n",
        "    </style>\n",
        "</head>\n",
        "<body>\n",
        "    <nav>\n",
        "        <a href=\"#\">C D R&nbsp;&nbsp;J O B&nbsp;&nbsp;D A S H B O A R D</a>\n",
        "    </nav>\n",
        "    <hr>\n",
        "    <div class=\"content\">\n",
        "        {% block content %} {% endblock %}\n",
        "    </div>\n",
        "</body>\n",
        "</html>"
      ],
      "metadata": {
        "id": "Vq9ry17iASG4"
      },
      "execution_count": null,
      "outputs": []
    },
    {
      "cell_type": "code",
      "source": [
        "streamLogger/app/templates/404.html\n",
        "\n",
        "<!DOCTYPE html>\n",
        "<html lang=\"en\">\n",
        "<head>\n",
        "    <meta charset=\"UTF-8\">\n",
        "    <title>404</title>\n",
        "</head>\n",
        "<body>\n",
        "\n",
        "</body>\n",
        "</html>"
      ],
      "metadata": {
        "id": "VplkPCt8AYQ4"
      },
      "execution_count": null,
      "outputs": []
    },
    {
      "cell_type": "code",
      "source": [
        "streamLogger/app/logs/2022/23-Jun-2022.json"
      ],
      "metadata": {
        "id": "euJPwkmpAkeF"
      },
      "execution_count": null,
      "outputs": []
    },
    {
      "cell_type": "code",
      "source": [
        "# !pip install pycrypto\n",
        "# AES/AESCipher.py\n",
        "\n",
        "from hashlib import sha256\n",
        "from Crypto import Random\n",
        "from Crypto.Cipher import AES\n",
        "from base64 import b64encode, b64decode\n",
        "\n",
        "class AESCipher:\n",
        "    def __init__(self, key):\n",
        "        self.aes_mode = AES.MODE_CBC\n",
        "        self.block_size = AES.block_size\t\n",
        "        self.key = sha256(key.encode()).digest()\n",
        "\n",
        "    def encrypt(self, plain_text):\n",
        "        plain_text = self.__pad(plain_text)\n",
        "        iv = Random.new().read(self.block_size)\n",
        "        cipher = AES.new(self.key, self.aes_mode, iv)\n",
        "        encrypted_text = cipher.encrypt(plain_text.encode())\n",
        "        return b64encode(iv + encrypted_text).decode(\"utf-8\")\n",
        "\n",
        "    def decrypt(self, encrypted_text):\n",
        "        encrypted_text = b64decode(encrypted_text)\n",
        "        iv = encrypted_text[:self.block_size]\n",
        "        cipher = AES.new(self.key, self.aes_mode, iv)\n",
        "        plain_text = cipher.decrypt(encrypted_text[self.block_size:]).decode(\"utf-8\")\n",
        "        return self.__unpad(plain_text)\n",
        "\n",
        "    def __pad(self, plain_text):\n",
        "        number_of_bytes_to_pad = self.block_size - len(plain_text) % self.block_size\n",
        "        ascii_string = chr(number_of_bytes_to_pad)\n",
        "        padding_str = number_of_bytes_to_pad * ascii_string\n",
        "        padded_plain_text = plain_text + padding_str\n",
        "        return padded_plain_text\n",
        "\n",
        "    @staticmethod\n",
        "    def __unpad(plain_text):\n",
        "        last_character = plain_text[len(plain_text) - 1:]\n",
        "        return plain_text[:-ord(last_character)]\n",
        "\n",
        "if __name__ == \"__main__\":\n",
        "\tkey = \"m@4989R$8h\"\n",
        "\tdata = \"Plain text\"\n",
        "\tencrypted_data = AESCipher(key).encrypt(data)\n",
        "\tdecrypted_data = AESCipher(key).decrypt(encrypted_data)\n",
        "\n",
        "\tprint(encrypted_data)\n",
        "\tprint(decrypted_data)\n"
      ],
      "metadata": {
        "id": "L5W4pfsDmYPP",
        "outputId": "8d9d272d-1f80-4832-d9ed-9ac83e06bff1",
        "colab": {
          "base_uri": "https://localhost:8080/"
        }
      },
      "execution_count": 5,
      "outputs": [
        {
          "output_type": "stream",
          "name": "stdout",
          "text": [
            "0P12JMy87FtCnOnZ1n70MQsTH1q2PRLIeEJ5s/jlylU=\n",
            "Plain text\n"
          ]
        }
      ]
    }
  ]
}