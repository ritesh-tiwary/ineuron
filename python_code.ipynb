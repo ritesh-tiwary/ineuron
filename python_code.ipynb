{
  "nbformat": 4,
  "nbformat_minor": 0,
  "metadata": {
    "colab": {
      "name": "python-code.ipynb",
      "provenance": [],
      "authorship_tag": "ABX9TyMauJ+KXfgsqJKSCCF1nHa0",
      "include_colab_link": true
    },
    "kernelspec": {
      "name": "python3",
      "display_name": "Python 3"
    },
    "language_info": {
      "name": "python"
    }
  },
  "cells": [
    {
      "cell_type": "markdown",
      "metadata": {
        "id": "view-in-github",
        "colab_type": "text"
      },
      "source": [
        "<a href=\"https://colab.research.google.com/github/ritesh-tiwary/ineuron/blob/main/python_code.ipynb\" target=\"_parent\"><img src=\"https://colab.research.google.com/assets/colab-badge.svg\" alt=\"Open In Colab\"/></a>"
      ]
    },
    {
      "cell_type": "markdown",
      "source": [
        "# Python Code"
      ],
      "metadata": {
        "id": "TsuDtPdQXerY"
      }
    },
    {
      "cell_type": "code",
      "execution_count": null,
      "metadata": {
        "id": "1ogMnFEnXZRG"
      },
      "outputs": [],
      "source": [
        "streamLogger/config.py\n",
        "\n",
        "import os\n",
        "\n",
        "# Statement for enabling the development environment\n",
        "DEBUG = True\n",
        "\n",
        "# Define the application directory\n",
        "BASE_DIR = os.path.abspath(os.path.dirname(__file__))\n",
        "\n",
        "# Application threads. A common general assumption is\n",
        "# using 2 per available processor cores - to handle\n",
        "# incoming requests using one and performing background\n",
        "# operations using the other.\n",
        "THREADS_PER_PAGE = 2\n",
        "\n",
        "# Enable protection against *Cross-site Request Forgery (CSRF)*\n",
        "CSRF_ENABLED = True\n",
        "\n",
        "# Use a secure, unique and absolutely secret key for\n",
        "# signing the data.\n",
        "CSRF_SESSION_KEY = \"secret\"\n",
        "\n"
      ]
    },
    {
      "cell_type": "code",
      "source": [
        "streamLogger/run.py\n",
        "# Run a test server.\n",
        "from app import app\n",
        "app.run(host='0.0.0.0', port=3000, debug=True)\n",
        "\n"
      ],
      "metadata": {
        "id": "TsOBbZVFX1Bt"
      },
      "execution_count": null,
      "outputs": []
    },
    {
      "cell_type": "code",
      "source": [
        "app/__init__.py\n",
        "\n",
        "import json\n",
        "from datetime import datetime, date\n",
        "from flask import Flask, request, render_template\n",
        "\n",
        "# Define the WSGI application object\n",
        "app = Flask(__name__)\n",
        "\n",
        "# Configurations\n",
        "app.config.from_object('config')\n",
        "\n",
        "d = date.today().strftime(\"%d-%b-%Y\")\n",
        "y = date.today().strftime(\"%Y\")\n",
        "\n",
        "\n",
        "@app.route('/')\n",
        "def index():\n",
        "    try:\n",
        "        with open(\"app/logs/\".__add__(y).__add__(\"/\").__add__(d).__add__(\".json\")) as f:\n",
        "            data = json.load(f)\n",
        "    except FileNotFoundError:\n",
        "        data = []\n",
        "    return render_template('index.html', data=data, utc_dt=datetime.utcnow())\n",
        "\n",
        "\n",
        "@app.route(\"/logs\", methods=[\"post\"])\n",
        "def logs():\n",
        "    try:\n",
        "        logs = []\n",
        "        log = request.data\n",
        "        with open(\"app/logs/\".__add__(y).__add__(\"/\").__add__(d).__add__(\".json\")) as f:\n",
        "            logs = json.load(f)\n",
        "        logs.append(json.loads(log))\n",
        "        with open(\"app/logs/\".__add__(y).__add__(\"/\").__add__(d).__add__(\".json\"), \"w\") as f:\n",
        "            json.dump(logs, f, indent=4, separators=(',', ': '))\n",
        "    except FileNotFoundError:\n",
        "        logs.append(json.loads(log))\n",
        "        with open(\"app/logs/\".__add__(y).__add__(\"/\").__add__(d).__add__(\".json\"), \"w\") as f:\n",
        "            json.dump(logs, f, indent=4, separators=(',', ': '))\n",
        "    return \"OK\", 200\n",
        "\n",
        "\n",
        "# Sample HTTP error handling\n",
        "@app.errorhandler(404)\n",
        "def not_found(error):\n",
        "    return render_template('404.html'), 404\n",
        "\n"
      ],
      "metadata": {
        "id": "zsKfAZGx_uLB"
      },
      "execution_count": null,
      "outputs": []
    },
    {
      "cell_type": "code",
      "source": [
        "streamLogger/streamLogger.py\n",
        "\n",
        "import json\n",
        "import logging\n",
        "import requests\n",
        "\n",
        "class RequestsHandler(logging.Handler):\n",
        "    def emit(self, record):\n",
        "        log = self.format(record)\n",
        "        # response = requests.post('http://localhost:3000/logs', headers={\"Content-type\": \"application/json\"}, data=log)\n",
        "        # print(\"Status Code\", response.status_code)\n",
        "        print(log)\n",
        "        return requests.post('http://localhost:3000/logs',\n",
        "                             headers={\"Content-type\": \"application/json\"},\n",
        "                             data=log).content\n",
        "\n",
        "\n",
        "class FormatterLogger(logging.Formatter):\n",
        "    def __init__(self, task_name=None):\n",
        "        super(FormatterLogger, self).__init__()\n",
        "\n",
        "    def format(self, record):\n",
        "        data = {'@message': record.msg,\n",
        "                '@funcName': record.funcName,\n",
        "                '@exc_text': record.exc_text,\n",
        "                '@lineno': 0 if record.exc_text is None else record.lineno,\n",
        "                '@exc_info': record.exc_info,\n",
        "                }\n",
        "\n",
        "        return json.dumps(data)\n",
        "\n",
        "\n",
        "def custom_logger(name):\n",
        "    logger = logging.getLogger(name)\n",
        "    custom_handler = RequestsHandler()\n",
        "    formatter = FormatterLogger(logger)\n",
        "    custom_handler.setFormatter(formatter)\n",
        "    logger.addHandler(custom_handler)\n",
        "    return logger\n",
        "\n",
        "\n",
        "logger = custom_logger(\"ECA\")\n",
        "logger.exception(\"ECA - Job Failed\")\n",
        "logger.exception(\"ECA - Job Completed Successfully\")\n"
      ],
      "metadata": {
        "id": "isFdi8ei_-6x"
      },
      "execution_count": null,
      "outputs": []
    },
    {
      "cell_type": "code",
      "source": [
        "streamLogger/app/templates/index.html\n",
        "\n",
        "{% extends 'base.html' %}\n",
        "\n",
        "{% block content %}\n",
        "<!--    <h1>{% block title %} Index {% endblock %}</h1>-->\n",
        "<!--    <h1>Hello World!</h1>-->\n",
        "<!--    <h2>Welcome to FlaskApp!</h2>-->\n",
        "    <h3 style=\"margin-left: 20px;\">UTC Time: {{ utc_dt }}</h3>\n",
        "    <div style=\"width: 100%; margin: auto\">\n",
        "        <div style=\"display: flex; padding: 10px; background-color: #e7f9ff; margin: 20px\">\n",
        "            <div style=\"width: 25%; display: inline-block; font-weight: bold;><p style=\"font-size: 100px\"> Message </p></div>\n",
        "            <div style=\"width: 20%; display: inline-block; font-weight: bold;><p style=\"font-size: 32px\"> Method Name </p></div>\n",
        "            <div style=\"width: 20%; display: inline-block; font-weight: bold;><p style=\"font-size: 32px\"> Exception Text </p></div>\n",
        "            <div style=\"width: 10%; display: inline-block; font-weight: bold;><p style=\"font-size: 32px\"> Line No </p></div>\n",
        "            <div style=\"width: 25%; display: inline-block; font-weight: bold;><p style=\"font-size: 32px\"> Traceback </p></div>\n",
        "        </div>\n",
        "        {% for d in data %}\n",
        "            {% if loop.index % 2 == 0 %}\n",
        "                    {% set bg_color = '#e6f9ff' %}\n",
        "                {% else %}\n",
        "                    {% set bg_color = '#eee' %}\n",
        "                {% endif %}\n",
        "\n",
        "                <div style=\"display: flex; padding: 10px; background-color: {{ bg_color }}; margin: 20px\">\n",
        "                    <div style=\"width: 25%; display: inline-block;><p style=\"font-size: 24px\"> {{ d[\"@message\"] }} </p></div>\n",
        "                    <div style=\"width: 20%; display: inline-block;><p style=\"font-size: 24px\"> {{ d[\"@funcName\"] }} </p></div>\n",
        "                    <div style=\"width: 20%; display: inline-block;><p style=\"font-size: 24px\"> {{ d[\"@exc_text\"] }} </p></div>\n",
        "                    <div style=\"width: 10%; display: inline-block;><p style=\"font-size: 24px\"> {{ d[\"@lineno\"] }}   </p></div>\n",
        "                    <div style=\"width: 25%; display: inline-block;><p style=\"font-size: 24px\"> {{ d[\"@exc_info\"] }} </p></div>\n",
        "                </div>\n",
        "        {% endfor %}\n",
        "    </div>\n",
        "{% endblock %}\n",
        "\n"
      ],
      "metadata": {
        "id": "_YARXBUVADyw"
      },
      "execution_count": null,
      "outputs": []
    },
    {
      "cell_type": "code",
      "source": [
        "streamLogger/app/templates/base.html\n",
        "\n",
        "<!DOCTYPE html>\n",
        "<html lang=\"en\">\n",
        "<head>\n",
        "    <meta charset=\"UTF-8\">\n",
        "    <title>{% block title %} {% endblock %} - FlaskApp</title>\n",
        "    <style>\n",
        "        nav a {\n",
        "            color: #d64161;\n",
        "            font-size: 3em;\n",
        "            margin-left: 20px;\n",
        "            text-decoration: none;\n",
        "        }\n",
        "    </style>\n",
        "</head>\n",
        "<body>\n",
        "    <nav>\n",
        "        <a href=\"#\">C D R&nbsp;&nbsp;J O B&nbsp;&nbsp;D A S H B O A R D</a>\n",
        "    </nav>\n",
        "    <hr>\n",
        "    <div class=\"content\">\n",
        "        {% block content %} {% endblock %}\n",
        "    </div>\n",
        "</body>\n",
        "</html>"
      ],
      "metadata": {
        "id": "Vq9ry17iASG4"
      },
      "execution_count": null,
      "outputs": []
    },
    {
      "cell_type": "code",
      "source": [
        "streamLogger/app/templates/404.html\n",
        "\n",
        "<!DOCTYPE html>\n",
        "<html lang=\"en\">\n",
        "<head>\n",
        "    <meta charset=\"UTF-8\">\n",
        "    <title>404</title>\n",
        "</head>\n",
        "<body>\n",
        "\n",
        "</body>\n",
        "</html>"
      ],
      "metadata": {
        "id": "VplkPCt8AYQ4"
      },
      "execution_count": null,
      "outputs": []
    },
    {
      "cell_type": "code",
      "source": [
        "streamLogger/app/logs/2022/23-Jun-2022.json"
      ],
      "metadata": {
        "id": "euJPwkmpAkeF"
      },
      "execution_count": null,
      "outputs": []
    },
    {
      "cell_type": "markdown",
      "source": [
        "- https://onboardbase.com/blog/aes-encryption-decryption\n",
        "- https://www.quickprogrammingtips.com/python/aes-256-encryption-and-decryption-in-python.html\n",
        "- https://cryptography.io/en/latest/hazmat/primitives/symmetric-encryption/#cryptography.hazmat.primitives.ciphers.Cipher\n",
        "- https://cryptography.io/en/latest/hazmat/primitives/key-derivation-functions/"
      ],
      "metadata": {
        "id": "DyfUMwMaq1ia"
      }
    },
    {
      "cell_type": "code",
      "source": [
        "# !pip install pycrypto\n",
        "# AES/AESCipher.py\n",
        "\n",
        "from hashlib import sha256\n",
        "from Crypto import Random\n",
        "from Crypto.Cipher import AES\n",
        "from base64 import b64encode, b64decode\n",
        "from Crypto.Random import get_random_bytes\n",
        "\n",
        "class AESCipher:\n",
        "    def __init__(self, key):\n",
        "        self.aes_mode = AES.MODE_CBC\n",
        "        self.block_size = AES.block_size\t\n",
        "        self.key = sha256(key.encode()).digest()\n",
        "\n",
        "    def encrypt(self, plain_text):\n",
        "        plain_text = self.__pad(plain_text)\n",
        "        iv = Random.new().read(self.block_size)\n",
        "        cipher = AES.new(self.key, self.aes_mode, iv)\n",
        "        encrypted_text = cipher.encrypt(plain_text.encode())\n",
        "        return b64encode(iv + encrypted_text).decode(\"utf-8\")\n",
        "\n",
        "    def decrypt(self, encrypted_text):\n",
        "        encrypted_text = b64decode(encrypted_text)\n",
        "        iv = encrypted_text[:self.block_size]\n",
        "        cipher = AES.new(self.key, self.aes_mode, iv)\n",
        "        plain_text = cipher.decrypt(encrypted_text[self.block_size:]).decode(\"utf-8\")\n",
        "        return self.__unpad(plain_text)\n",
        "\n",
        "    def __pad(self, plain_text):\n",
        "        number_of_bytes_to_pad = self.block_size - len(plain_text) % self.block_size\n",
        "        ascii_string = chr(number_of_bytes_to_pad)\n",
        "        padding_str = number_of_bytes_to_pad * ascii_string\n",
        "        padded_plain_text = plain_text + padding_str\n",
        "        return padded_plain_text\n",
        "\n",
        "    @staticmethod\n",
        "    def __unpad(plain_text):\n",
        "        last_character = plain_text[len(plain_text) - 1:]\n",
        "        return plain_text[:-ord(last_character)]\n",
        "\n",
        "if __name__ == \"__main__\":\n",
        "\tkey = \"m@4989R$8h\"\n",
        "\tdata = \"Plain text\"\n",
        "\tencrypted_data = AESCipher(key).encrypt(data)\n",
        "\tdecrypted_data = AESCipher(key).decrypt(encrypted_data)\n",
        "\n",
        "\tprint(encrypted_data)\n",
        "\tprint(decrypted_data)\n"
      ],
      "metadata": {
        "id": "L5W4pfsDmYPP",
        "outputId": "255d0199-4740-4e76-9628-8e4588169e59",
        "colab": {
          "base_uri": "https://localhost:8080/"
        }
      },
      "execution_count": null,
      "outputs": [
        {
          "output_type": "stream",
          "name": "stdout",
          "text": [
            "L4ZquH1p4WAh+hKo2w+AAlI1Ulhx1/PKcnImmP1SY30=\n",
            "Plain text\n"
          ]
        }
      ]
    },
    {
      "cell_type": "code",
      "source": [
        "pad = lambda s: s + (BLOCK_SIZE - len(s) % BLOCK_SIZE) * chr(BLOCK_SIZE - len(s) % BLOCK_SIZE)\n",
        "unpad = lambda s: s[:-ord(s[len(s) - 1:])]"
      ],
      "metadata": {
        "id": "PHfoogkOTSCs"
      },
      "execution_count": null,
      "outputs": []
    },
    {
      "cell_type": "code",
      "source": [
        "kdf = PBKDF2HMAC(\n",
        "  algorithm=hashes.SHA256(),\n",
        "  length=32,\n",
        "  salt=urandom(16),\n",
        "  iterations=390000,\n",
        "  )\n",
        "\n",
        "key = kdf.derive(b\"An-encryption-key\")\n",
        "key"
      ],
      "metadata": {
        "id": "kPWYuCiSeQNN",
        "outputId": "9fc48e59-2d68-4727-d8be-6528b2654784",
        "colab": {
          "base_uri": "https://localhost:8080/"
        }
      },
      "execution_count": null,
      "outputs": [
        {
          "output_type": "execute_result",
          "data": {
            "text/plain": [
              "b'l\\xa3f\\xea\\xb0v\\x9f\\x10\\x1e\\xb2{\\x9e:>\\xe0c/\\xe5\\x11\\xb2\\x15%\\xea\\xb1\\x10@\\xd02\\xeeI\\x03\\xed'"
            ]
          },
          "metadata": {},
          "execution_count": 73
        }
      ]
    },
    {
      "cell_type": "code",
      "source": [
        "kdf = PBKDF2HMAC(\n",
        "    algorithm=hashes.SHA256(),\n",
        "    length=32,\n",
        "    salt=urandom(16),\n",
        "    iterations=390000,\n",
        ")\n",
        "\n",
        "kdf.verify(b\"An-encryption-key\", b'l\\xa3f\\xea\\xb0v\\x9f\\x10\\x1e\\xb2{\\x9e:>\\xe0c/\\xe5\\x11\\xb2\\x15%\\xea\\xb1\\x10@\\xd02\\xeeI\\x03\\xed')"
      ],
      "metadata": {
        "id": "UMG_s4O0eQVu",
        "outputId": "731f2cbf-b2cb-48d5-e7c4-95dd4ef9d9d3",
        "colab": {
          "base_uri": "https://localhost:8080/",
          "height": 287
        }
      },
      "execution_count": null,
      "outputs": [
        {
          "output_type": "error",
          "ename": "InvalidKey",
          "evalue": "ignored",
          "traceback": [
            "\u001b[0;31m---------------------------------------------------------------------------\u001b[0m",
            "\u001b[0;31mInvalidKey\u001b[0m                                Traceback (most recent call last)",
            "\u001b[0;32m<ipython-input-74-91b6c8507fb8>\u001b[0m in \u001b[0;36m<module>\u001b[0;34m\u001b[0m\n\u001b[1;32m      6\u001b[0m )\n\u001b[1;32m      7\u001b[0m \u001b[0;34m\u001b[0m\u001b[0m\n\u001b[0;32m----> 8\u001b[0;31m \u001b[0mkdf\u001b[0m\u001b[0;34m.\u001b[0m\u001b[0mverify\u001b[0m\u001b[0;34m(\u001b[0m\u001b[0;34mb\"An-encryption-key\"\u001b[0m\u001b[0;34m,\u001b[0m \u001b[0;34mb'l\\xa3f\\xea\\xb0v\\x9f\\x10\\x1e\\xb2{\\x9e:>\\xe0c/\\xe5\\x11\\xb2\\x15%\\xea\\xb1\\x10@\\xd02\\xeeI\\x03\\xed'\u001b[0m\u001b[0;34m)\u001b[0m\u001b[0;34m\u001b[0m\u001b[0;34m\u001b[0m\u001b[0m\n\u001b[0m",
            "\u001b[0;32m/usr/local/lib/python3.7/dist-packages/cryptography/hazmat/primitives/kdf/pbkdf2.py\u001b[0m in \u001b[0;36mverify\u001b[0;34m(self, key_material, expected_key)\u001b[0m\n\u001b[1;32m     63\u001b[0m         \u001b[0mderived_key\u001b[0m \u001b[0;34m=\u001b[0m \u001b[0mself\u001b[0m\u001b[0;34m.\u001b[0m\u001b[0mderive\u001b[0m\u001b[0;34m(\u001b[0m\u001b[0mkey_material\u001b[0m\u001b[0;34m)\u001b[0m\u001b[0;34m\u001b[0m\u001b[0;34m\u001b[0m\u001b[0m\n\u001b[1;32m     64\u001b[0m         \u001b[0;32mif\u001b[0m \u001b[0;32mnot\u001b[0m \u001b[0mconstant_time\u001b[0m\u001b[0;34m.\u001b[0m\u001b[0mbytes_eq\u001b[0m\u001b[0;34m(\u001b[0m\u001b[0mderived_key\u001b[0m\u001b[0;34m,\u001b[0m \u001b[0mexpected_key\u001b[0m\u001b[0;34m)\u001b[0m\u001b[0;34m:\u001b[0m\u001b[0;34m\u001b[0m\u001b[0;34m\u001b[0m\u001b[0m\n\u001b[0;32m---> 65\u001b[0;31m             \u001b[0;32mraise\u001b[0m \u001b[0mInvalidKey\u001b[0m\u001b[0;34m(\u001b[0m\u001b[0;34m\"Keys do not match.\"\u001b[0m\u001b[0;34m)\u001b[0m\u001b[0;34m\u001b[0m\u001b[0;34m\u001b[0m\u001b[0m\n\u001b[0m",
            "\u001b[0;31mInvalidKey\u001b[0m: Keys do not match."
          ]
        }
      ]
    },
    {
      "cell_type": "code",
      "source": [
        "salt = urandom(16)\n",
        "# derive\n",
        "kdf = PBKDF2HMAC(\n",
        "    algorithm=hashes.SHA256(),\n",
        "    length=32,\n",
        "    salt=salt,\n",
        "    iterations=390000,\n",
        ")\n",
        "key = kdf.derive(b\"my great password\")\n",
        "# verify\n",
        "kdf = PBKDF2HMAC(\n",
        "    algorithm=hashes.SHA256(),\n",
        "    length=32,\n",
        "    salt=salt,\n",
        "    iterations=390000,\n",
        ")\n",
        "\n",
        "kdf.verify(b\"my great password\", key)"
      ],
      "metadata": {
        "id": "Ulrau6RwfC7t"
      },
      "execution_count": null,
      "outputs": []
    },
    {
      "cell_type": "code",
      "source": [
        "# !pip install cryptography\n",
        "import os\n",
        "from os import urandom\n",
        "from Crypto.Protocol.KDF import PBKDF2\n",
        "from cryptography.hazmat.primitives import hashes\n",
        "from cryptography.hazmat.primitives.kdf.pbkdf2 import PBKDF2HMAC\n",
        "from cryptography.hazmat.primitives.ciphers import Cipher, algorithms, modes\n",
        "\n",
        "kdf = PBKDF2HMAC(\n",
        "  algorithm=hashes.SHA256(),\n",
        "  length=32,\n",
        "  salt=urandom(64),\n",
        "  iterations=390000,\n",
        "  )\n",
        "\n",
        "key = kdf.derive(b\"An-encryption-key\")\n",
        "iv = urandom(16)\n",
        "# iv = get_random_bytes(16)\n",
        "cipher = Cipher(algorithms.AES256(key), modes.CBC(iv))\n",
        "encryptor = cipher.encryptor()\n",
        "encrypted_data = encryptor.update(b\"a secret message\") + encryptor.finalize()\n",
        "encrypted_data"
      ],
      "metadata": {
        "id": "S6VK8wIeQoFu",
        "outputId": "aa8e3703-018f-4260-a2a4-5508c2de171d",
        "colab": {
          "base_uri": "https://localhost:8080/"
        }
      },
      "execution_count": null,
      "outputs": [
        {
          "output_type": "execute_result",
          "data": {
            "text/plain": [
              "b'q\\xfa\\xf6\\xec\\xe3\\x1eB\\xd2\\xc1v\\xd2-<\\x1b5S'"
            ]
          },
          "metadata": {},
          "execution_count": 57
        }
      ]
    },
    {
      "cell_type": "code",
      "source": [
        "encrypted_data = b'\\xce>\\xb3@\\x05\\x1azI\\x16\\x9d(2\\x8d\\xa6\\xba\\x8b'\n",
        "decryptor = cipher.decryptor()\n",
        "decrypted_data = decryptor.update(encrypted_data) + decryptor.finalize()\n",
        "decrypted_data.decode(\"utf-8\")"
      ],
      "metadata": {
        "id": "C2CdP2rSXwe8",
        "outputId": "0300c930-d25b-4e37-a1e7-3921bc20305d",
        "colab": {
          "base_uri": "https://localhost:8080/",
          "height": 35
        }
      },
      "execution_count": null,
      "outputs": [
        {
          "output_type": "execute_result",
          "data": {
            "text/plain": [
              "'a secret message'"
            ],
            "application/vnd.google.colaboratory.intrinsic+json": {
              "type": "string"
            }
          },
          "metadata": {},
          "execution_count": 46
        }
      ]
    },
    {
      "cell_type": "code",
      "source": [
        "help(algorithms)"
      ],
      "metadata": {
        "id": "H-HWnvq_Uy5z"
      },
      "execution_count": null,
      "outputs": []
    },
    {
      "cell_type": "code",
      "source": [
        "import os\n",
        "iv = os.urandom(16)\n",
        "iv"
      ],
      "metadata": {
        "id": "2lPK54lPVFqM",
        "outputId": "7f3206af-262e-4804-c43c-24a5743a2e1c",
        "colab": {
          "base_uri": "https://localhost:8080/"
        }
      },
      "execution_count": null,
      "outputs": [
        {
          "output_type": "execute_result",
          "data": {
            "text/plain": [
              "b'5<<\\x0c&em\\x00\\x81\\xb4\\x13\\x1b\\xd1\\xb7\\x06\\x89'"
            ]
          },
          "metadata": {},
          "execution_count": 36
        }
      ]
    },
    {
      "cell_type": "code",
      "source": [],
      "metadata": {
        "id": "K9FrADCNXI2c"
      },
      "execution_count": null,
      "outputs": []
    }
  ]
}