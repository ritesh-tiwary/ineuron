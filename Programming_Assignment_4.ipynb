{
  "nbformat": 4,
  "nbformat_minor": 0,
  "metadata": {
    "colab": {
      "name": "Programming Assignment_4.ipynb",
      "provenance": [],
      "authorship_tag": "ABX9TyNnKSco9qwaZ1WOhtzsTGQc",
      "include_colab_link": true
    },
    "kernelspec": {
      "name": "python3",
      "display_name": "Python 3"
    },
    "language_info": {
      "name": "python"
    }
  },
  "cells": [
    {
      "cell_type": "markdown",
      "metadata": {
        "id": "view-in-github",
        "colab_type": "text"
      },
      "source": [
        "<a href=\"https://colab.research.google.com/github/ritesh-tiwary/ineuron/blob/main/Programming_Assignment_4.ipynb\" target=\"_parent\"><img src=\"https://colab.research.google.com/assets/colab-badge.svg\" alt=\"Open In Colab\"/></a>"
      ]
    },
    {
      "cell_type": "markdown",
      "source": [
        "**1. Write a Python Program to Find the Factorial of a Number?**"
      ],
      "metadata": {
        "id": "ZgFHW9WtBjGz"
      }
    },
    {
      "cell_type": "code",
      "source": [
        "def FactorialNumber(n):\n",
        "    factorial = 1   \n",
        "    if n < 0:\n",
        "      print(\"Sorry, factorial does not exist for negative numbers\")\n",
        "    elif n == 0:\n",
        "      print(\"The factorial of 0 is 1\")\n",
        "    else:\n",
        "      for i in range(1, n + 1):\n",
        "       factorial = factorial*i\n",
        "      print(\"The factorial of\", n, \"is\", factorial) \n",
        "\n",
        "n = int(input(\"Enter a number as input value: \"))\n",
        "FactorialNumber(n)"
      ],
      "metadata": {
        "colab": {
          "base_uri": "https://localhost:8080/"
        },
        "id": "_nt0pPg5B1_t",
        "outputId": "7abca4c0-886d-4275-ac7c-585f3746064f"
      },
      "execution_count": null,
      "outputs": [
        {
          "output_type": "stream",
          "name": "stdout",
          "text": [
            "Enter a number as input value: 4\n",
            "The factorial of 4 is 24\n"
          ]
        }
      ]
    },
    {
      "cell_type": "markdown",
      "source": [
        "**2. Write a Python Program to Display the multiplication Table?**"
      ],
      "metadata": {
        "id": "1E5W8IcmBlSg"
      }
    },
    {
      "cell_type": "code",
      "source": [
        "def MultiplicationTable(n):\n",
        "  print(\"Multiplication Table of\", n)\n",
        "  for i in range(1, 11):\n",
        "   print(n, 'x', i, '=', n*i) \n",
        "\n",
        "n = int(input(\"Enter a number as input value: \"))\n",
        "MultiplicationTable(n)"
      ],
      "metadata": {
        "colab": {
          "base_uri": "https://localhost:8080/"
        },
        "id": "8FV_oLUfB2rX",
        "outputId": "23da8377-091a-4ef5-85dc-fd08b63f3af0"
      },
      "execution_count": null,
      "outputs": [
        {
          "output_type": "stream",
          "name": "stdout",
          "text": [
            "Enter a number as input value: 4\n",
            "Multiplication Table of 4\n",
            "4 x 1 = 4\n",
            "4 x 2 = 8\n",
            "4 x 3 = 12\n",
            "4 x 4 = 16\n",
            "4 x 5 = 20\n",
            "4 x 6 = 24\n",
            "4 x 7 = 28\n",
            "4 x 8 = 32\n",
            "4 x 9 = 36\n",
            "4 x 10 = 40\n"
          ]
        }
      ]
    },
    {
      "cell_type": "markdown",
      "source": [
        "**3. Write a Python Program to Print the Fibonacci sequence?**"
      ],
      "metadata": {
        "id": "izCzpJlkBoIH"
      }
    },
    {
      "cell_type": "code",
      "source": [
        "def FibonacciSequence(n):\n",
        "  n1, n2 = 0, 1\n",
        "  count = 0\n",
        "\n",
        "  if n <= 0:\n",
        "   print(\"Please enter a positive integer\")\n",
        "  elif n == 1:\n",
        "   print(\"Fibonacci sequence upto\",n,\":\")\n",
        "   print(n1)\n",
        "  else:\n",
        "   print(\"Fibonacci sequence upto\",n,\":\")\n",
        "   while count < n:\n",
        "       print(n1)\n",
        "       nth = n1 + n2\n",
        "       n1 = n2\n",
        "       n2 = nth\n",
        "       count += 1\n",
        "\n",
        "n = int(input(\"Enter a number as input value: \"))\n",
        "FibonacciSequence(n)"
      ],
      "metadata": {
        "colab": {
          "base_uri": "https://localhost:8080/"
        },
        "id": "3AeEoV0tB3yF",
        "outputId": "5abc1f29-07fa-466c-b08d-64147ad74856"
      },
      "execution_count": null,
      "outputs": [
        {
          "output_type": "stream",
          "name": "stdout",
          "text": [
            "Enter a number as input value: 13\n",
            "Fibonacci sequence upto 13 :\n",
            "0\n",
            "1\n",
            "1\n",
            "2\n",
            "3\n",
            "5\n",
            "8\n",
            "13\n",
            "21\n",
            "34\n",
            "55\n",
            "89\n",
            "144\n"
          ]
        }
      ]
    },
    {
      "cell_type": "markdown",
      "source": [
        "**4. Write a Python Program to Check Armstrong Number?**"
      ],
      "metadata": {
        "id": "pLjpeBrnBrYv"
      }
    },
    {
      "cell_type": "code",
      "source": [
        "def ArmstrongNumber(n):\n",
        "  sum = 0\n",
        "  temp = n\n",
        "  while temp > 0:\n",
        "   digit = temp % 10\n",
        "   sum += digit ** 3\n",
        "   temp //= 10\n",
        "\n",
        "  # display the result\n",
        "  if n == sum:\n",
        "   print(n,\"is an Armstrong number\")\n",
        "  else:\n",
        "   print(n,\"is not an Armstrong number\")\n",
        "\n",
        "\n",
        "n = int(input(\"Enter a number as input value: \"))\n",
        "ArmstrongNumber(n)"
      ],
      "metadata": {
        "colab": {
          "base_uri": "https://localhost:8080/"
        },
        "id": "twdMhaBFB4Ve",
        "outputId": "03e9bb1f-8105-4d37-9f14-34067add4727"
      },
      "execution_count": null,
      "outputs": [
        {
          "output_type": "stream",
          "name": "stdout",
          "text": [
            "Enter a number as input value: 407\n",
            "407 is an Armstrong number\n"
          ]
        }
      ]
    },
    {
      "cell_type": "markdown",
      "source": [
        "**5. Write a Python Program to Find Armstrong Number in an Interval?**\n"
      ],
      "metadata": {
        "id": "YipeTSEDBugW"
      }
    },
    {
      "cell_type": "code",
      "source": [
        "def ArmstrongNumber(lower, upper):\n",
        "  for num in range(lower, upper + 1):\n",
        "    sum = 0\n",
        "    order = len(str(num))    \n",
        "\n",
        "    temp = num\n",
        "    while temp > 0:\n",
        "       digit = temp % 10\n",
        "       sum += digit ** order\n",
        "       temp //= 10\n",
        "\n",
        "    if num == sum:\n",
        "       print(num)\n",
        "\n",
        "lower = 100\n",
        "upper = 2000\n",
        "print(\"Armstrong numbers between\", lower, \"and\", upper, \"are:\")\n",
        "ArmstrongNumber(lower, upper)"
      ],
      "metadata": {
        "colab": {
          "base_uri": "https://localhost:8080/"
        },
        "id": "yE4mt8UVB4uY",
        "outputId": "3e9cb1bb-8a35-4cd7-dd62-1d36d673eb21"
      },
      "execution_count": null,
      "outputs": [
        {
          "output_type": "stream",
          "name": "stdout",
          "text": [
            "Armstrong numbers between 100 and 2000 are:\n",
            "153\n",
            "370\n",
            "371\n",
            "407\n",
            "1634\n"
          ]
        }
      ]
    },
    {
      "cell_type": "markdown",
      "source": [
        "**6. Write a Python Program to Find the Sum of Natural Numbers?**"
      ],
      "metadata": {
        "id": "gb9uae1bBw74"
      }
    },
    {
      "cell_type": "code",
      "execution_count": null,
      "metadata": {
        "colab": {
          "base_uri": "https://localhost:8080/"
        },
        "id": "8WhAhTvUAD35",
        "outputId": "d7786f65-6689-4e55-c2c9-d74d54fd0001"
      },
      "outputs": [
        {
          "output_type": "stream",
          "name": "stdout",
          "text": [
            "Enter a number as input value: 16\n",
            "Sum of natural numbers up to 16\n",
            "The sum is 136\n"
          ]
        }
      ],
      "source": [
        "def SumNaturalNumber(n):\n",
        "  if n < 0:\n",
        "   print(\"Enter a positive number\")\n",
        "  else:\n",
        "   sum = 0\n",
        "   while(n > 0):\n",
        "       sum += n\n",
        "       n -= 1\n",
        "   print(\"The sum is\", sum)\n",
        "\n",
        "\n",
        "n = int(input(\"Enter a number as input value: \"))\n",
        "print(\"Sum of natural numbers up to\", n)\n",
        "SumNaturalNumber(n)"
      ]
    }
  ]
}