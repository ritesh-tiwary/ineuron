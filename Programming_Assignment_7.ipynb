{
  "nbformat": 4,
  "nbformat_minor": 0,
  "metadata": {
    "colab": {
      "name": "Programming_Assignment_7.ipynb",
      "provenance": [],
      "authorship_tag": "ABX9TyPhAR+ykU7rJR5bUf6nf1OK",
      "include_colab_link": true
    },
    "kernelspec": {
      "name": "python3",
      "display_name": "Python 3"
    },
    "language_info": {
      "name": "python"
    }
  },
  "cells": [
    {
      "cell_type": "markdown",
      "metadata": {
        "id": "view-in-github",
        "colab_type": "text"
      },
      "source": [
        "<a href=\"https://colab.research.google.com/github/ritesh-tiwary/ineuron/blob/main/Programming_Assignment_7.ipynb\" target=\"_parent\"><img src=\"https://colab.research.google.com/assets/colab-badge.svg\" alt=\"Open In Colab\"/></a>"
      ]
    },
    {
      "cell_type": "markdown",
      "source": [
        "# 1. Write a Python Program to find sum of array?"
      ],
      "metadata": {
        "id": "2FXF1Iqtd1z9"
      }
    },
    {
      "cell_type": "code",
      "execution_count": 1,
      "metadata": {
        "colab": {
          "base_uri": "https://localhost:8080/"
        },
        "id": "fv5mTJGXdsus",
        "outputId": "3af9e0dd-1573-482a-9f87-85ed0746c657"
      },
      "outputs": [
        {
          "output_type": "stream",
          "name": "stdout",
          "text": [
            "Sum of all the elements of an array: 15\n"
          ]
        }
      ],
      "source": [
        "def arrey_sum(arr):\n",
        "  sum = 0\n",
        "  for i in range(0, len(arr)):    \n",
        "   sum = sum + arr[i]\n",
        "  print(\"Sum of all the elements of an array: \" + str(sum))\n",
        "\n",
        "arr = [1, 2, 3, 4, 5]\n",
        "arrey_sum(arr)"
      ]
    },
    {
      "cell_type": "markdown",
      "source": [
        "\n",
        "# 2. Write a Python Program to find largest element in an array?"
      ],
      "metadata": {
        "id": "Mpc6kow7lOgg"
      }
    },
    {
      "cell_type": "code",
      "source": [
        "def largest(arr):\n",
        "  max = arr[0]\n",
        "  n = len(arr)\n",
        "  for i in range(1, n):\n",
        "        if arr[i] > max:\n",
        "            max = arr[i]\n",
        "  return max\n",
        "  \n",
        "arr = [10, 324, 45, 90, 9808]\n",
        "Ans = largest(arr)\n",
        "print (\"Largest in given array is\",Ans)"
      ],
      "metadata": {
        "colab": {
          "base_uri": "https://localhost:8080/"
        },
        "id": "UJmhfme7efx2",
        "outputId": "1ac47756-b4fb-4703-91bd-6de73f983ef7"
      },
      "execution_count": 2,
      "outputs": [
        {
          "output_type": "stream",
          "name": "stdout",
          "text": [
            "Largest in given array is 9808\n"
          ]
        }
      ]
    },
    {
      "cell_type": "markdown",
      "source": [
        "\n",
        "# 3. Write a Python Program for array rotation?"
      ],
      "metadata": {
        "id": "SHI4NtdvlSHg"
      }
    },
    {
      "cell_type": "code",
      "source": [
        "def rotateArray(arr, n, d):\n",
        "    temp = []\n",
        "    i = 0\n",
        "    while (i < d):\n",
        "        temp.append(arr[i])\n",
        "        i = i + 1\n",
        "    i = 0\n",
        "    while (d < n):\n",
        "        arr[i] = arr[d]\n",
        "        i = i + 1\n",
        "        d = d + 1\n",
        "    arr[:] = arr[: i] + temp\n",
        "    return arr\n",
        " \n",
        "arr = [14, 42, 43, 44, 54, 64, 74]\n",
        "print(\"Array after rotation is: \", end=' ')\n",
        "print(rotateArray(arr, len(arr), 2))"
      ],
      "metadata": {
        "colab": {
          "base_uri": "https://localhost:8080/"
        },
        "id": "ZvsdPazChZg8",
        "outputId": "8bf2f0ad-1b8b-4b29-a8c2-555769ede652"
      },
      "execution_count": 6,
      "outputs": [
        {
          "output_type": "stream",
          "name": "stdout",
          "text": [
            "Array after rotation is:  [43, 44, 54, 64, 74, 14, 42]\n"
          ]
        }
      ]
    },
    {
      "cell_type": "markdown",
      "source": [
        "\n",
        "# 4. Write a Python Program to Split the array and add the first part to the end?"
      ],
      "metadata": {
        "id": "UdPsdFCZlV9n"
      }
    },
    {
      "cell_type": "code",
      "source": [
        "def SplitArray(arr, position = 1):\n",
        "  n = len(arr)\n",
        "  for i in range(0, position):\n",
        "    x = arr[0]\n",
        "    for j in range(0, n-1):\n",
        "      arr[j] = arr[j + 1]\n",
        "\n",
        "  arr[n-1] = x\t\t\n",
        "  for i in range(0, n):\n",
        "    print(arr[i], end = ' ')\n",
        " \n",
        "arr = [15, 40, 15, 16, 50, 36]\n",
        "SplitArray(arr, position=1)"
      ],
      "metadata": {
        "colab": {
          "base_uri": "https://localhost:8080/"
        },
        "id": "Lz_cQi4Khv8a",
        "outputId": "2c1a8567-6072-4ddd-c753-58b691c76818"
      },
      "execution_count": 12,
      "outputs": [
        {
          "output_type": "stream",
          "name": "stdout",
          "text": [
            "40 15 16 50 36 15 "
          ]
        }
      ]
    },
    {
      "cell_type": "markdown",
      "source": [
        "\n",
        "# 5. Write a Python Program to check if given array is Monotonic?"
      ],
      "metadata": {
        "id": "sLDlVEtmlZXo"
      }
    },
    {
      "cell_type": "code",
      "source": [
        "def isMonotonic(A):\n",
        "        \"\"\"A monotonic array is an array where elements are either sorted in increasing order or in decreasing order.\"\"\"\n",
        "        a,b=0,0 \n",
        "        for i in range(len(A)-1): \n",
        "            if A[i+1]>A[i]: \n",
        "                a+=1 \n",
        "            elif A[i+1]<A[i]: \n",
        "                b+=1 \n",
        "        if 0 in [a,b]: \n",
        "            return \"Monotonic\" \n",
        "        else: \n",
        "            return \"Not Monotonic\"\n",
        "\n",
        "l = [1,2,3,4,4,5]\n",
        "print(\"Given array is\", isMonotonic(l))"
      ],
      "metadata": {
        "colab": {
          "base_uri": "https://localhost:8080/"
        },
        "id": "DDJDkxFsjXcr",
        "outputId": "2ca52c90-2165-403c-dbd9-7ee0633d975f"
      },
      "execution_count": 20,
      "outputs": [
        {
          "output_type": "stream",
          "name": "stdout",
          "text": [
            "Given array is Monotonic\n"
          ]
        }
      ]
    }
  ]
}