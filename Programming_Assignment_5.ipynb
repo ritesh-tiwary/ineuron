{
  "nbformat": 4,
  "nbformat_minor": 0,
  "metadata": {
    "colab": {
      "name": "Programming Assignment_5.ipynb",
      "provenance": [],
      "authorship_tag": "ABX9TyPzrdFqLZcufth4A3u75Hoh",
      "include_colab_link": true
    },
    "kernelspec": {
      "name": "python3",
      "display_name": "Python 3"
    },
    "language_info": {
      "name": "python"
    }
  },
  "cells": [
    {
      "cell_type": "markdown",
      "metadata": {
        "id": "view-in-github",
        "colab_type": "text"
      },
      "source": [
        "<a href=\"https://colab.research.google.com/github/ritesh-tiwary/ineuron/blob/main/Programming_Assignment_5.ipynb\" target=\"_parent\"><img src=\"https://colab.research.google.com/assets/colab-badge.svg\" alt=\"Open In Colab\"/></a>"
      ]
    },
    {
      "cell_type": "markdown",
      "source": [
        "**1. Write a Python Program to Find LCM?**"
      ],
      "metadata": {
        "id": "jpnb-KBdM3l1"
      }
    },
    {
      "cell_type": "code",
      "source": [
        "def FindLCM(x, y):\n",
        "   if x > y:\n",
        "       greater = x\n",
        "   else:\n",
        "       greater = y\n",
        "\n",
        "   while(True):\n",
        "       if((greater % x == 0) and (greater % y == 0)):\n",
        "           lcm = greater\n",
        "           break\n",
        "       greater += 1\n",
        "\n",
        "   return lcm\n",
        "\n",
        "num1 = 54\n",
        "num2 = 24\n",
        "\n",
        "print(\"The L.C.M. is\", FindLCM(num1, num2))"
      ],
      "metadata": {
        "colab": {
          "base_uri": "https://localhost:8080/"
        },
        "id": "JQasRzppNFmv",
        "outputId": "daa07e6d-91ce-432b-b75d-9e35d246637d"
      },
      "execution_count": 2,
      "outputs": [
        {
          "output_type": "stream",
          "name": "stdout",
          "text": [
            "The L.C.M. is 216\n"
          ]
        }
      ]
    },
    {
      "cell_type": "markdown",
      "source": [
        "**2. Write a Python Program to Find HCF?**"
      ],
      "metadata": {
        "id": "6jKcgqtNM5uA"
      }
    },
    {
      "cell_type": "code",
      "source": [
        "def FindHCF(x, y):\n",
        "    if x > y:\n",
        "        smaller = y\n",
        "    else:\n",
        "        smaller = x\n",
        "    for i in range(1, smaller+1):\n",
        "        if((x % i == 0) and (y % i == 0)):\n",
        "            hcf = i \n",
        "    return hcf\n",
        "\n",
        "num1 = 54 \n",
        "num2 = 24\n",
        "\n",
        "print(\"The H.C.F. is\", FindHCF(num1, num2))"
      ],
      "metadata": {
        "colab": {
          "base_uri": "https://localhost:8080/"
        },
        "id": "TJHJy9IiNGMv",
        "outputId": "058928ff-ffb4-49d4-ee1e-10d1857a87f3"
      },
      "execution_count": 3,
      "outputs": [
        {
          "output_type": "stream",
          "name": "stdout",
          "text": [
            "The H.C.F. is 6\n"
          ]
        }
      ]
    },
    {
      "cell_type": "markdown",
      "source": [
        "**3. Write a Python Program to Convert Decimal to Binary, Octal and Hexadecimal?**"
      ],
      "metadata": {
        "id": "AomgwEDWM9e6"
      }
    },
    {
      "cell_type": "code",
      "source": [
        "def ConvertNumber(n):\n",
        "  print(\"The decimal value of\", n, \"is:\", n)\n",
        "  print(\"The binary value of\", n, \"is:\", bin(n))\n",
        "  print(\"The octal value of\", n, \"is:\", oct(n))\n",
        "  print(\"The hexadecimal value of\", n, \"is:\", hex(n))\n",
        "\n",
        "n = int(input(\"Enter a number as input value: \"))\n",
        "ConvertNumber(n)"
      ],
      "metadata": {
        "colab": {
          "base_uri": "https://localhost:8080/"
        },
        "id": "9drQe460NGu_",
        "outputId": "a474adbc-41b5-45ef-c7cb-16cdb6eab0bd"
      },
      "execution_count": 4,
      "outputs": [
        {
          "output_type": "stream",
          "name": "stdout",
          "text": [
            "Enter a number as input value: 344\n",
            "The decimal value of 344 is: 344\n",
            "The binary value of 344 is: 0b101011000\n",
            "The octal value of 344 is: 0o530\n",
            "The hexadecimal value of 344 is: 0x158\n"
          ]
        }
      ]
    },
    {
      "cell_type": "markdown",
      "source": [
        "**4. Write a Python Program To Find ASCII value of a character?**"
      ],
      "metadata": {
        "id": "sa3W0lbbM-pG"
      }
    },
    {
      "cell_type": "code",
      "source": [
        "def FindASCII(c):\n",
        "  print(\"The ASCII value of '\" + c + \"' is\", ord(c))\n",
        "\n",
        "c = input(\"Enter a number as input value: \")\n",
        "FindASCII(c)"
      ],
      "metadata": {
        "colab": {
          "base_uri": "https://localhost:8080/"
        },
        "id": "naAXdvffNHU-",
        "outputId": "e14a285a-6288-414f-8412-b879e8e3986c"
      },
      "execution_count": 9,
      "outputs": [
        {
          "output_type": "stream",
          "name": "stdout",
          "text": [
            "Enter a number as input value: A\n",
            "The ASCII value of 'A' is 65\n"
          ]
        }
      ]
    },
    {
      "cell_type": "markdown",
      "source": [
        "**5. Write a Python Program to Make a Simple Calculator with 4 basic mathematical operations?**"
      ],
      "metadata": {
        "id": "tP_rvOxrNBk4"
      }
    },
    {
      "cell_type": "code",
      "execution_count": 14,
      "metadata": {
        "colab": {
          "base_uri": "https://localhost:8080/"
        },
        "id": "gjbZbdy9MpKX",
        "outputId": "2fec35b4-3af8-48da-90ce-c0f70d403af4"
      },
      "outputs": [
        {
          "name": "stdout",
          "output_type": "stream",
          "text": [
            "Select operation.\n",
            "1.Add\n",
            "2.Subtract\n",
            "3.Multiply\n",
            "4.Divide\n",
            "Enter choice(1/2/3/4): 1\n",
            "Enter first number: 4\n",
            "Enter second number: 4\n",
            "4.0 + 4.0 = 8.0\n",
            "Let's do next calculation? (yes/no): yes\n",
            "Enter choice(1/2/3/4): 2\n",
            "Enter first number: 8\n",
            "Enter second number: 4\n",
            "8.0 - 4.0 = 4.0\n",
            "Let's do next calculation? (yes/no): yes\n",
            "Enter choice(1/2/3/4): 3\n",
            "Enter first number: 4\n",
            "Enter second number: 4\n",
            "4.0 * 4.0 = 16.0\n",
            "Let's do next calculation? (yes/no): yes\n",
            "Enter choice(1/2/3/4): 4\n",
            "Enter first number: 8\n",
            "Enter second number: 4\n",
            "8.0 / 4.0 = 2.0\n",
            "Let's do next calculation? (yes/no): no\n"
          ]
        }
      ],
      "source": [
        "print(\"Select operation.\")\n",
        "print(\"1.Add\")\n",
        "print(\"2.Subtract\")\n",
        "print(\"3.Multiply\")\n",
        "print(\"4.Divide\")\n",
        "\n",
        "import operator\n",
        "while True:\n",
        "    choice = input(\"Enter choice(1/2/3/4): \")\n",
        "    if choice in ('1', '2', '3', '4'):\n",
        "        num1 = float(input(\"Enter first number: \"))\n",
        "        num2 = float(input(\"Enter second number: \"))\n",
        "\n",
        "        if choice == '1':\n",
        "            print(num1, \"+\", num2, \"=\", operator.add(num1, num2))\n",
        "\n",
        "        elif choice == '2':\n",
        "            print(num1, \"-\", num2, \"=\", operator.sub(num1, num2))\n",
        "\n",
        "        elif choice == '3':\n",
        "            print(num1, \"*\", num2, \"=\", operator.mul(num1, num2))\n",
        "\n",
        "        elif choice == '4':\n",
        "            print(num1, \"/\", num2, \"=\", operator.floordiv(num1, num2))\n",
        "        \n",
        "        next_calculation = input(\"Let's do next calculation? (yes/no): \")\n",
        "        if next_calculation == \"no\":\n",
        "          break    \n",
        "    else:\n",
        "        print(\"Invalid Input\")"
      ]
    }
  ]
}