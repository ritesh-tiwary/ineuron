{
  "nbformat": 4,
  "nbformat_minor": 0,
  "metadata": {
    "colab": {
      "name": "string-manipulation.ipynb",
      "provenance": [],
      "authorship_tag": "ABX9TyNLYOMHmmj6G3mJMQVgHpL3",
      "include_colab_link": true
    },
    "kernelspec": {
      "name": "python3",
      "display_name": "Python 3"
    },
    "language_info": {
      "name": "python"
    }
  },
  "cells": [
    {
      "cell_type": "markdown",
      "metadata": {
        "id": "view-in-github",
        "colab_type": "text"
      },
      "source": [
        "<a href=\"https://colab.research.google.com/github/ritesh-tiwary/ineuron/blob/main/string_manipulation.ipynb\" target=\"_parent\"><img src=\"https://colab.research.google.com/assets/colab-badge.svg\" alt=\"Open In Colab\"/></a>"
      ]
    },
    {
      "cell_type": "markdown",
      "source": [
        "**1. Extract data index 1-300 with jump 3**"
      ],
      "metadata": {
        "id": "nLORRaUBHIqZ"
      }
    },
    {
      "cell_type": "code",
      "execution_count": 1,
      "metadata": {
        "id": "VyGEtz70-4Dx"
      },
      "outputs": [],
      "source": [
        "s1=\"This is my firs programming class's\""
      ]
    },
    {
      "cell_type": "code",
      "source": [
        "s1[1:300:3]"
      ],
      "metadata": {
        "colab": {
          "base_uri": "https://localhost:8080/",
          "height": 36
        },
        "id": "AtlvKeQmTCoQ",
        "outputId": "be4bb7bd-d7d2-4292-8714-0adcd4bd9a9d"
      },
      "execution_count": 2,
      "outputs": [
        {
          "output_type": "execute_result",
          "data": {
            "text/plain": [
              "'h   rpgmncss'"
            ],
            "application/vnd.google.colaboratory.intrinsic+json": {
              "type": "string"
            }
          },
          "metadata": {},
          "execution_count": 2
        }
      ]
    },
    {
      "cell_type": "markdown",
      "source": [
        "**2. Reverse a string without using function**"
      ],
      "metadata": {
        "id": "MUtc905rHyIM"
      }
    },
    {
      "cell_type": "code",
      "source": [
        "s2=\"ineuron\""
      ],
      "metadata": {
        "id": "F5UjgvaLTLUZ"
      },
      "execution_count": 3,
      "outputs": []
    },
    {
      "cell_type": "code",
      "source": [
        "s2[::-1]"
      ],
      "metadata": {
        "id": "f6Vtu-1IhiIb",
        "outputId": "f0798a65-6411-49d9-a6c0-c950f6417f7f",
        "colab": {
          "base_uri": "https://localhost:8080/",
          "height": 36
        }
      },
      "execution_count": 5,
      "outputs": [
        {
          "output_type": "execute_result",
          "data": {
            "text/plain": [
              "'norueni'"
            ],
            "application/vnd.google.colaboratory.intrinsic+json": {
              "type": "string"
            }
          },
          "metadata": {},
          "execution_count": 5
        }
      ]
    },
    {
      "cell_type": "markdown",
      "source": [
        "**3. Split a string after converting entire string in upercase**"
      ],
      "metadata": {
        "id": "PbiTw-epIDDu"
      }
    },
    {
      "cell_type": "code",
      "source": [
        "s3=\"This is my firs programming class's\""
      ],
      "metadata": {
        "id": "-5vzRjk9hkUI"
      },
      "execution_count": 6,
      "outputs": []
    },
    {
      "cell_type": "code",
      "source": [
        "s3 = s3.upper()"
      ],
      "metadata": {
        "id": "PawzCOjmF2eG"
      },
      "execution_count": 7,
      "outputs": []
    },
    {
      "cell_type": "code",
      "source": [
        "s3.split()"
      ],
      "metadata": {
        "id": "MMOlaXC_GrJm",
        "colab": {
          "base_uri": "https://localhost:8080/"
        },
        "outputId": "88f2345c-e69e-46d4-eca5-1b10837aef29"
      },
      "execution_count": 8,
      "outputs": [
        {
          "output_type": "execute_result",
          "data": {
            "text/plain": [
              "['THIS', 'IS', 'MY', 'FIRS', 'PROGRAMMING', \"CLASS'S\"]"
            ]
          },
          "metadata": {},
          "execution_count": 8
        }
      ]
    },
    {
      "cell_type": "markdown",
      "source": [
        "**4. Convert string into lowercase**"
      ],
      "metadata": {
        "id": "CKAJdzxLIqQi"
      }
    },
    {
      "cell_type": "code",
      "source": [
        "s4=\"INEURON\""
      ],
      "metadata": {
        "id": "VeBsjiKCGwRv"
      },
      "execution_count": 10,
      "outputs": []
    },
    {
      "cell_type": "code",
      "source": [
        "s4.lower()"
      ],
      "metadata": {
        "colab": {
          "base_uri": "https://localhost:8080/",
          "height": 36
        },
        "id": "CRvmne7gHBgn",
        "outputId": "61bb68a9-dd23-4180-cf4a-069ced4286a8"
      },
      "execution_count": 11,
      "outputs": [
        {
          "output_type": "execute_result",
          "data": {
            "text/plain": [
              "'ineuron'"
            ],
            "application/vnd.google.colaboratory.intrinsic+json": {
              "type": "string"
            }
          },
          "metadata": {},
          "execution_count": 11
        }
      ]
    },
    {
      "cell_type": "markdown",
      "source": [
        "**5. Capilatlize the whole string**"
      ],
      "metadata": {
        "id": "kYTv-dx7JC0F"
      }
    },
    {
      "cell_type": "code",
      "source": [
        "s5=\"ineuron\""
      ],
      "metadata": {
        "id": "P7g55iNTHDWU"
      },
      "execution_count": 15,
      "outputs": []
    },
    {
      "cell_type": "code",
      "source": [
        "s5.capitalize()"
      ],
      "metadata": {
        "colab": {
          "base_uri": "https://localhost:8080/",
          "height": 36
        },
        "id": "Zw7LmywFHRhl",
        "outputId": "cc9a508c-d7b0-4845-f5e1-d5274891bf34"
      },
      "execution_count": 16,
      "outputs": [
        {
          "output_type": "execute_result",
          "data": {
            "text/plain": [
              "'Ineuron'"
            ],
            "application/vnd.google.colaboratory.intrinsic+json": {
              "type": "string"
            }
          },
          "metadata": {},
          "execution_count": 16
        }
      ]
    },
    {
      "cell_type": "markdown",
      "source": [
        "**6. Write a diffrencce between alphanum and isalbha**"
      ],
      "metadata": {
        "id": "Hk0BaWcaJmGH"
      }
    },
    {
      "cell_type": "code",
      "source": [
        "s6=\"ineuron1\""
      ],
      "metadata": {
        "id": "Chkzm2Z0NoQr"
      },
      "execution_count": 48,
      "outputs": []
    },
    {
      "cell_type": "code",
      "source": [
        "s6.isalpha()"
      ],
      "metadata": {
        "colab": {
          "base_uri": "https://localhost:8080/"
        },
        "id": "FmIUNTyXLowP",
        "outputId": "2cb8895e-c015-4123-9d1a-2ffcc80d1810"
      },
      "execution_count": 49,
      "outputs": [
        {
          "output_type": "execute_result",
          "data": {
            "text/plain": [
              "False"
            ]
          },
          "metadata": {},
          "execution_count": 49
        }
      ]
    },
    {
      "cell_type": "code",
      "source": [
        "s6=\"ineuron1\""
      ],
      "metadata": {
        "id": "avBkPixKN2kZ"
      },
      "execution_count": 50,
      "outputs": []
    },
    {
      "cell_type": "code",
      "source": [
        "s6.isalnum()"
      ],
      "metadata": {
        "colab": {
          "base_uri": "https://localhost:8080/"
        },
        "id": "1mkeoM5sNujF",
        "outputId": "5fdf314f-b5ff-4b59-f167-2315c67d1220"
      },
      "execution_count": 52,
      "outputs": [
        {
          "output_type": "execute_result",
          "data": {
            "text/plain": [
              "True"
            ]
          },
          "metadata": {},
          "execution_count": 52
        }
      ]
    },
    {
      "cell_type": "markdown",
      "source": [
        "**7. Example of expandtabs**"
      ],
      "metadata": {
        "id": "tb5cnJjqJthF"
      }
    },
    {
      "cell_type": "code",
      "source": [
        "s7=\"Ritesh\\tKumar\\tTiwary\""
      ],
      "metadata": {
        "id": "VIqiQBUpJxLM"
      },
      "execution_count": 19,
      "outputs": []
    },
    {
      "cell_type": "code",
      "source": [
        "s7.expandtabs()"
      ],
      "metadata": {
        "colab": {
          "base_uri": "https://localhost:8080/",
          "height": 36
        },
        "id": "Kexgc7OWJ45N",
        "outputId": "2d85d9fa-5e0b-4192-fba1-5d90246706ff"
      },
      "execution_count": 20,
      "outputs": [
        {
          "output_type": "execute_result",
          "data": {
            "text/plain": [
              "'Ritesh  Kumar   Tiwary'"
            ],
            "application/vnd.google.colaboratory.intrinsic+json": {
              "type": "string"
            }
          },
          "metadata": {},
          "execution_count": 20
        }
      ]
    },
    {
      "cell_type": "markdown",
      "source": [
        "**8. Exmplae of rstrip**"
      ],
      "metadata": {
        "id": "Br01u88KJtkB"
      }
    },
    {
      "cell_type": "code",
      "source": [
        "s8=\"ineuron   \""
      ],
      "metadata": {
        "id": "C5PSXAYPHa8n"
      },
      "execution_count": 23,
      "outputs": []
    },
    {
      "cell_type": "code",
      "source": [
        "s8.rstrip()"
      ],
      "metadata": {
        "id": "zXRXRba-IRB8",
        "colab": {
          "base_uri": "https://localhost:8080/",
          "height": 36
        },
        "outputId": "e65dd545-0c60-4e53-b4be-2c6ed7a1209e"
      },
      "execution_count": 24,
      "outputs": [
        {
          "output_type": "execute_result",
          "data": {
            "text/plain": [
              "'ineuron'"
            ],
            "application/vnd.google.colaboratory.intrinsic+json": {
              "type": "string"
            }
          },
          "metadata": {},
          "execution_count": 24
        }
      ]
    },
    {
      "cell_type": "markdown",
      "source": [
        "**9. Exmaple of reverse string by taking your example**"
      ],
      "metadata": {
        "id": "-rxokO71KVyc"
      }
    },
    {
      "cell_type": "code",
      "source": [
        "s9=\"ineuron\""
      ],
      "metadata": {
        "id": "he-E_C8EKI5i"
      },
      "execution_count": 27,
      "outputs": []
    },
    {
      "cell_type": "code",
      "source": [
        "\"\".join(reversed(s9))"
      ],
      "metadata": {
        "colab": {
          "base_uri": "https://localhost:8080/",
          "height": 36
        },
        "id": "Rt_gmz6nKNbT",
        "outputId": "84895a1b-810a-49c3-bb24-6ba444509b37"
      },
      "execution_count": 28,
      "outputs": [
        {
          "output_type": "execute_result",
          "data": {
            "text/plain": [
              "'norueni'"
            ],
            "application/vnd.google.colaboratory.intrinsic+json": {
              "type": "string"
            }
          },
          "metadata": {},
          "execution_count": 28
        }
      ]
    },
    {
      "cell_type": "markdown",
      "source": [
        "**10. Example of string center function with an example**"
      ],
      "metadata": {
        "id": "OndlVnP_Ktpm"
      }
    },
    {
      "cell_type": "code",
      "source": [
        "s10=\"ineuron\""
      ],
      "metadata": {
        "id": "OrZiV91CKQu4"
      },
      "execution_count": 31,
      "outputs": []
    },
    {
      "cell_type": "code",
      "source": [
        "s10.center(20, \"*\")"
      ],
      "metadata": {
        "colab": {
          "base_uri": "https://localhost:8080/",
          "height": 36
        },
        "id": "hDJZ7U2FK4CZ",
        "outputId": "746b6724-7524-4a8e-eebf-287e07006cf5"
      },
      "execution_count": 32,
      "outputs": [
        {
          "output_type": "execute_result",
          "data": {
            "text/plain": [
              "'******ineuron*******'"
            ],
            "application/vnd.google.colaboratory.intrinsic+json": {
              "type": "string"
            }
          },
          "metadata": {},
          "execution_count": 32
        }
      ]
    },
    {
      "cell_type": "markdown",
      "source": [
        "**11. Write your code definition interpreter and compiler**\n",
        "\n",
        "Interpreter is only one step to get from source code to execution while compiler executes code in two steps.\n",
        "\n",
        "Interpreted programs can be modified while the program is running. Complied programs can't be change while running.\n",
        "\n",
        "Exmple of interpreted language - JavaScript, Python\n",
        "\n",
        "Exmple of complied language - Java, C, C++\n",
        "\n"
      ],
      "metadata": {
        "id": "gTDGxRjnLEgx"
      }
    },
    {
      "cell_type": "markdown",
      "source": [
        "**12. Python is a interpreted or compiled language give your own understanding**\n",
        "\n",
        "Python is a interpreted language. However, this is converted into bytecode and then executed. Basically, python execution done in three steps. \n",
        "\n",
        "Firstly, executing python command from bash this will create bytecode file in same directory.\n",
        "\n",
        "Secondly, python Virtual Machine (PVM) is a program which provides programming environment. The role of PVM is to convert the byte code instructions into machine code. \n",
        "\n",
        "Lastly, computer will execute those machine code instructions and display the output."
      ],
      "metadata": {
        "id": "sVv06npULOVu"
      }
    },
    {
      "cell_type": "markdown",
      "source": [
        "**13. Python use case**\n",
        "\n",
        "\n",
        "1.   Data Analysis\n",
        "4.   Machine Learning\n",
        "7.   Data Science\n",
        "2.   Web Development\n",
        "3.   Automation Scripting \n",
        "5.   Game Development\n",
        "\n",
        "\n"
      ],
      "metadata": {
        "id": "RMgdLX9ELUPl"
      }
    },
    {
      "cell_type": "code",
      "source": [
        ""
      ],
      "metadata": {
        "id": "4e8D3KorkvBg"
      },
      "execution_count": null,
      "outputs": []
    }
  ]
}