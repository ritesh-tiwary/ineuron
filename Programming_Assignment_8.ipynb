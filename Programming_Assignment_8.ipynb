{
  "nbformat": 4,
  "nbformat_minor": 0,
  "metadata": {
    "colab": {
      "name": "Programming_Assignment_8.ipynb",
      "provenance": [],
      "authorship_tag": "ABX9TyMny9snSiBgt5e6KK9PRaJ8",
      "include_colab_link": true
    },
    "kernelspec": {
      "name": "python3",
      "display_name": "Python 3"
    },
    "language_info": {
      "name": "python"
    }
  },
  "cells": [
    {
      "cell_type": "markdown",
      "metadata": {
        "id": "view-in-github",
        "colab_type": "text"
      },
      "source": [
        "<a href=\"https://colab.research.google.com/github/ritesh-tiwary/ineuron/blob/main/Programming_Assignment_8.ipynb\" target=\"_parent\"><img src=\"https://colab.research.google.com/assets/colab-badge.svg\" alt=\"Open In Colab\"/></a>"
      ]
    },
    {
      "cell_type": "markdown",
      "source": [
        "# 1. Write a Python Program to Add Two Matrices?"
      ],
      "metadata": {
        "id": "pJey0UlxmP-H"
      }
    },
    {
      "cell_type": "code",
      "execution_count": 3,
      "metadata": {
        "colab": {
          "base_uri": "https://localhost:8080/"
        },
        "id": "PiveEVghmFGv",
        "outputId": "605146b7-a5a2-4e73-f657-a073b67f49ee"
      },
      "outputs": [
        {
          "output_type": "stream",
          "name": "stdout",
          "text": [
            "[17, 15, 4]\n",
            "[10, 12, 9]\n",
            "[11, 13, 18]\n"
          ]
        }
      ],
      "source": [
        "def metrice_addition(X, Y):\n",
        "  result = [[0,0,0],\n",
        "            [0,0,0],\n",
        "            [0,0,0]]\n",
        "  for i in range(len(X)):\n",
        "   for j in range(len(X[0])):\n",
        "       result[i][j] = X[i][j] + Y[i][j]\n",
        "  return result\n",
        "\n",
        "X = [[12,7,3],\n",
        "    [4 ,5,6],\n",
        "    [7 ,8,9]]\n",
        "\n",
        "Y = [[5,8,1],\n",
        "    [6,7,3],\n",
        "    [4,5,9]]\n",
        "\n",
        "result = metrice_addition(X, Y)\n",
        "for r in result:\n",
        "   print(r)"
      ]
    },
    {
      "cell_type": "markdown",
      "source": [
        "\n",
        "# 2. Write a Python Program to Multiply Two Matrices?"
      ],
      "metadata": {
        "id": "1nqwAxg3tNaP"
      }
    },
    {
      "cell_type": "code",
      "source": [
        "def metrice_multiplication(X, Y):\n",
        "  result = [[0,0,0],\n",
        "            [0,0,0],\n",
        "            [0,0,0]]\n",
        "  for i in range(len(X)):\n",
        "   for j in range(len(Y[0])):\n",
        "       for k in range(len(Y)):\n",
        "           result[i][j] += X[i][k] * Y[k][j]\n",
        "  return result\n",
        "\n",
        "X = [[12,7,3],\n",
        "    [4 ,5,6],\n",
        "    [7 ,8,9]]\n",
        "\n",
        "Y = [[5,8,1],\n",
        "    [6,7,3],\n",
        "    [4,5,9]]\n",
        "\n",
        "result = metrice_multiplication(X, Y)\n",
        "for r in result:\n",
        "   print(r)"
      ],
      "metadata": {
        "colab": {
          "base_uri": "https://localhost:8080/"
        },
        "id": "2U5sJBLRnwLS",
        "outputId": "c11b4061-389f-4c95-837e-823b44b4f21b"
      },
      "execution_count": 5,
      "outputs": [
        {
          "output_type": "stream",
          "name": "stdout",
          "text": [
            "[114, 160, 60]\n",
            "[74, 97, 73]\n",
            "[119, 157, 112]\n"
          ]
        }
      ]
    },
    {
      "cell_type": "markdown",
      "source": [
        "\n",
        "# 3. Write a Python Program to Transpose a Matrix?"
      ],
      "metadata": {
        "id": "5gGAv-_ytQWc"
      }
    },
    {
      "cell_type": "code",
      "source": [
        "def metrix_transpose(X):\n",
        "  result = [[0,0,0],\n",
        "            [0,0,0]]\n",
        "  for i in range(len(X)):\n",
        "   for j in range(len(X[0])):\n",
        "       result[j][i] = X[i][j]\n",
        "  return result\n",
        "\n",
        "X = [[12,7],\n",
        "    [4 ,5],\n",
        "    [3 ,8]]\n",
        "result = metrix_transpose(X)\n",
        "for r in result:\n",
        "   print(r)"
      ],
      "metadata": {
        "colab": {
          "base_uri": "https://localhost:8080/"
        },
        "id": "tr9zqIzIog0J",
        "outputId": "a3822764-ea28-4934-eeeb-2ea2b1fd90ea"
      },
      "execution_count": 6,
      "outputs": [
        {
          "output_type": "stream",
          "name": "stdout",
          "text": [
            "[12, 4, 3]\n",
            "[7, 5, 8]\n"
          ]
        }
      ]
    },
    {
      "cell_type": "markdown",
      "source": [
        "\n",
        "# 4. Write a Python Program to Sort Words in Alphabetic Order?"
      ],
      "metadata": {
        "id": "yuO36q1ntTYc"
      }
    },
    {
      "cell_type": "code",
      "source": [
        "def sort_alphabetically(my_str):\n",
        "  words = [word.lower() for word in my_str.split()]\n",
        "  words.sort()\n",
        "  return words\n",
        "\n",
        "my_str = input(\"Enter a string: \")\n",
        "words = sort_alphabetically(my_str)\n",
        "print(\"The sorted words are:\")\n",
        "for word in words:\n",
        "   print(word)"
      ],
      "metadata": {
        "colab": {
          "base_uri": "https://localhost:8080/"
        },
        "id": "aGknp-yJq-uc",
        "outputId": "97981d48-1a5c-42e1-c340-b82b14323796"
      },
      "execution_count": 10,
      "outputs": [
        {
          "output_type": "stream",
          "name": "stdout",
          "text": [
            "Enter a string: Hello this Is an Example With cased letters\n",
            "The sorted words are:\n",
            "an\n",
            "cased\n",
            "example\n",
            "hello\n",
            "is\n",
            "letters\n",
            "this\n",
            "with\n"
          ]
        }
      ]
    },
    {
      "cell_type": "markdown",
      "source": [
        "\n",
        "# 5. Write a Python Program to Remove Punctuation From a String?"
      ],
      "metadata": {
        "id": "Inc1dWimtWGu"
      }
    },
    {
      "cell_type": "code",
      "source": [
        "def remove_punctuation(my_str):\n",
        "  punctuations = '''!()-[]{};:'\"\\,<>./?@#$%^&*_~'''\n",
        "  no_punct = \"\"\n",
        "  for char in my_str:\n",
        "   if char not in punctuations:\n",
        "       no_punct = no_punct + char\n",
        "  return no_punct\n",
        "\n",
        "my_str = input(\"Enter a string: \")\n",
        "no_punct = remove_punctuation(my_str)\n",
        "print(no_punct)"
      ],
      "metadata": {
        "colab": {
          "base_uri": "https://localhost:8080/"
        },
        "id": "3b2pbq3IsER_",
        "outputId": "0c959b1d-d2ac-46b8-817c-4e3e56ab1856"
      },
      "execution_count": 13,
      "outputs": [
        {
          "output_type": "stream",
          "name": "stdout",
          "text": [
            "Enter a string: Hello!!!, he said ---and went.\n",
            "Hello he said and went\n"
          ]
        }
      ]
    }
  ]
}