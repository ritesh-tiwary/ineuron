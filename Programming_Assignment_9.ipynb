{
  "nbformat": 4,
  "nbformat_minor": 0,
  "metadata": {
    "colab": {
      "name": "Programming_Assignment_9.ipynb",
      "provenance": [],
      "authorship_tag": "ABX9TyOXF6hHeG/SUgAHBVq9q0gU",
      "include_colab_link": true
    },
    "kernelspec": {
      "name": "python3",
      "display_name": "Python 3"
    },
    "language_info": {
      "name": "python"
    }
  },
  "cells": [
    {
      "cell_type": "markdown",
      "metadata": {
        "id": "view-in-github",
        "colab_type": "text"
      },
      "source": [
        "<a href=\"https://colab.research.google.com/github/ritesh-tiwary/ineuron/blob/main/Programming_Assignment_9.ipynb\" target=\"_parent\"><img src=\"https://colab.research.google.com/assets/colab-badge.svg\" alt=\"Open In Colab\"/></a>"
      ]
    },
    {
      "cell_type": "markdown",
      "source": [
        "# **1. Write a Python program to check if the given number is a Disarium Number?**"
      ],
      "metadata": {
        "id": "LjaKJgF640L6"
      }
    },
    {
      "cell_type": "code",
      "execution_count": 16,
      "metadata": {
        "colab": {
          "base_uri": "https://localhost:8080/"
        },
        "id": "MyO284_I4XAT",
        "outputId": "52611c46-4a92-4fd5-af7f-253bdc0e4ffc"
      },
      "outputs": [
        {
          "output_type": "stream",
          "name": "stdout",
          "text": [
            "Enter a number: 135\n",
            "\n",
            "Is 135 is Disarium number? Yes\n"
          ]
        }
      ],
      "source": [
        "def is_disarium(num):\n",
        "    s = \"No\"\n",
        "    temp = 0    \n",
        "    for i in range(len(str(num))):\n",
        "        temp += int(str(num)[i]) ** (i + 1)\n",
        "        if temp == num: s = \"Yes\"\n",
        "    return s\n",
        "\n",
        "num = int(input(\"Enter a number: \"))\n",
        "print(\"\\nIs\",num,\"is Disarium number?\",is_disarium(num))"
      ]
    },
    {
      "cell_type": "markdown",
      "source": [
        "# **2. Write a Python program to print all disarium numbers between 1 to 100?**"
      ],
      "metadata": {
        "id": "GbIfCGWVFmxA"
      }
    },
    {
      "cell_type": "code",
      "source": [
        "def disarium_numbers(lower, upper):\n",
        "  while lower != upper:\n",
        "    s = \"No\"\n",
        "    temp = 0    \n",
        "    for i in range(len(str(lower))):\n",
        "        temp += int(str(lower)[i]) ** (i + 1)\n",
        "        if temp == lower: s = \"Yes\"\n",
        "    print(\"\\nIs\",lower,\"is Disarium number?\", s)\n",
        "    lower += 1\n",
        "\n",
        "lower = 1\n",
        "upper = 101\n",
        "print(\"Display Disarium numbers between\", lower, \"to\", upper)\n",
        "disarium_numbers(lower, upper)"
      ],
      "metadata": {
        "colab": {
          "base_uri": "https://localhost:8080/"
        },
        "id": "uWdLwRwu469X",
        "outputId": "4160494c-e4de-4527-f64c-a14da92d8fa0"
      },
      "execution_count": 1,
      "outputs": [
        {
          "output_type": "stream",
          "name": "stdout",
          "text": [
            "Display Disarium numbers between 1 to 101\n",
            "\n",
            "Is 1 is Disarium number? Yes\n",
            "\n",
            "Is 2 is Disarium number? Yes\n",
            "\n",
            "Is 3 is Disarium number? Yes\n",
            "\n",
            "Is 4 is Disarium number? Yes\n",
            "\n",
            "Is 5 is Disarium number? Yes\n",
            "\n",
            "Is 6 is Disarium number? Yes\n",
            "\n",
            "Is 7 is Disarium number? Yes\n",
            "\n",
            "Is 8 is Disarium number? Yes\n",
            "\n",
            "Is 9 is Disarium number? Yes\n",
            "\n",
            "Is 10 is Disarium number? No\n",
            "\n",
            "Is 11 is Disarium number? No\n",
            "\n",
            "Is 12 is Disarium number? No\n",
            "\n",
            "Is 13 is Disarium number? No\n",
            "\n",
            "Is 14 is Disarium number? No\n",
            "\n",
            "Is 15 is Disarium number? No\n",
            "\n",
            "Is 16 is Disarium number? No\n",
            "\n",
            "Is 17 is Disarium number? No\n",
            "\n",
            "Is 18 is Disarium number? No\n",
            "\n",
            "Is 19 is Disarium number? No\n",
            "\n",
            "Is 20 is Disarium number? No\n",
            "\n",
            "Is 21 is Disarium number? No\n",
            "\n",
            "Is 22 is Disarium number? No\n",
            "\n",
            "Is 23 is Disarium number? No\n",
            "\n",
            "Is 24 is Disarium number? No\n",
            "\n",
            "Is 25 is Disarium number? No\n",
            "\n",
            "Is 26 is Disarium number? No\n",
            "\n",
            "Is 27 is Disarium number? No\n",
            "\n",
            "Is 28 is Disarium number? No\n",
            "\n",
            "Is 29 is Disarium number? No\n",
            "\n",
            "Is 30 is Disarium number? No\n",
            "\n",
            "Is 31 is Disarium number? No\n",
            "\n",
            "Is 32 is Disarium number? No\n",
            "\n",
            "Is 33 is Disarium number? No\n",
            "\n",
            "Is 34 is Disarium number? No\n",
            "\n",
            "Is 35 is Disarium number? No\n",
            "\n",
            "Is 36 is Disarium number? No\n",
            "\n",
            "Is 37 is Disarium number? No\n",
            "\n",
            "Is 38 is Disarium number? No\n",
            "\n",
            "Is 39 is Disarium number? No\n",
            "\n",
            "Is 40 is Disarium number? No\n",
            "\n",
            "Is 41 is Disarium number? No\n",
            "\n",
            "Is 42 is Disarium number? No\n",
            "\n",
            "Is 43 is Disarium number? No\n",
            "\n",
            "Is 44 is Disarium number? No\n",
            "\n",
            "Is 45 is Disarium number? No\n",
            "\n",
            "Is 46 is Disarium number? No\n",
            "\n",
            "Is 47 is Disarium number? No\n",
            "\n",
            "Is 48 is Disarium number? No\n",
            "\n",
            "Is 49 is Disarium number? No\n",
            "\n",
            "Is 50 is Disarium number? No\n",
            "\n",
            "Is 51 is Disarium number? No\n",
            "\n",
            "Is 52 is Disarium number? No\n",
            "\n",
            "Is 53 is Disarium number? No\n",
            "\n",
            "Is 54 is Disarium number? No\n",
            "\n",
            "Is 55 is Disarium number? No\n",
            "\n",
            "Is 56 is Disarium number? No\n",
            "\n",
            "Is 57 is Disarium number? No\n",
            "\n",
            "Is 58 is Disarium number? No\n",
            "\n",
            "Is 59 is Disarium number? No\n",
            "\n",
            "Is 60 is Disarium number? No\n",
            "\n",
            "Is 61 is Disarium number? No\n",
            "\n",
            "Is 62 is Disarium number? No\n",
            "\n",
            "Is 63 is Disarium number? No\n",
            "\n",
            "Is 64 is Disarium number? No\n",
            "\n",
            "Is 65 is Disarium number? No\n",
            "\n",
            "Is 66 is Disarium number? No\n",
            "\n",
            "Is 67 is Disarium number? No\n",
            "\n",
            "Is 68 is Disarium number? No\n",
            "\n",
            "Is 69 is Disarium number? No\n",
            "\n",
            "Is 70 is Disarium number? No\n",
            "\n",
            "Is 71 is Disarium number? No\n",
            "\n",
            "Is 72 is Disarium number? No\n",
            "\n",
            "Is 73 is Disarium number? No\n",
            "\n",
            "Is 74 is Disarium number? No\n",
            "\n",
            "Is 75 is Disarium number? No\n",
            "\n",
            "Is 76 is Disarium number? No\n",
            "\n",
            "Is 77 is Disarium number? No\n",
            "\n",
            "Is 78 is Disarium number? No\n",
            "\n",
            "Is 79 is Disarium number? No\n",
            "\n",
            "Is 80 is Disarium number? No\n",
            "\n",
            "Is 81 is Disarium number? No\n",
            "\n",
            "Is 82 is Disarium number? No\n",
            "\n",
            "Is 83 is Disarium number? No\n",
            "\n",
            "Is 84 is Disarium number? No\n",
            "\n",
            "Is 85 is Disarium number? No\n",
            "\n",
            "Is 86 is Disarium number? No\n",
            "\n",
            "Is 87 is Disarium number? No\n",
            "\n",
            "Is 88 is Disarium number? No\n",
            "\n",
            "Is 89 is Disarium number? Yes\n",
            "\n",
            "Is 90 is Disarium number? No\n",
            "\n",
            "Is 91 is Disarium number? No\n",
            "\n",
            "Is 92 is Disarium number? No\n",
            "\n",
            "Is 93 is Disarium number? No\n",
            "\n",
            "Is 94 is Disarium number? No\n",
            "\n",
            "Is 95 is Disarium number? No\n",
            "\n",
            "Is 96 is Disarium number? No\n",
            "\n",
            "Is 97 is Disarium number? No\n",
            "\n",
            "Is 98 is Disarium number? No\n",
            "\n",
            "Is 99 is Disarium number? No\n",
            "\n",
            "Is 100 is Disarium number? No\n"
          ]
        }
      ]
    },
    {
      "cell_type": "markdown",
      "source": [
        "\n",
        "# **3. Write a Python program to check if the given number is Happy Number?**"
      ],
      "metadata": {
        "id": "92GXZReCFuT-"
      }
    },
    {
      "cell_type": "code",
      "source": [
        "def isHappyNumber(num):\n",
        "    rem = sum = 0\n",
        "    while(num > 0):\n",
        "        rem = num%10\n",
        "        sum = sum + (rem*rem)\n",
        "        num = num//10\n",
        "    return sum\n",
        "\n",
        "num = 82\n",
        "result = num\n",
        "while(result != 1 and result != 4):\n",
        "    result = isHappyNumber(result)\n",
        "\n",
        "#Happy number always ends with 1  \n",
        "if(result == 1):\n",
        "    print(str(num) + \" is a happy number\")\n",
        "#Unhappy number ends in a cycle of repeating numbers which contain 4  \n",
        "elif(result == 4):\n",
        "    print(str(num) + \" is not a happy number\")\n"
      ],
      "metadata": {
        "colab": {
          "base_uri": "https://localhost:8080/"
        },
        "id": "zTKkKFwK47Ck",
        "outputId": "d3a5dde0-cb5b-4272-923a-22f6899eaf03"
      },
      "execution_count": 3,
      "outputs": [
        {
          "output_type": "stream",
          "name": "stdout",
          "text": [
            "82 is a happy number\n"
          ]
        }
      ]
    },
    {
      "cell_type": "markdown",
      "source": [
        "\n",
        "# **4. Write a Python program to print all happy numbers between 1 and 100?**"
      ],
      "metadata": {
        "id": "FpERwHwfFxgW"
      }
    },
    {
      "cell_type": "code",
      "source": [
        "def isHappyNumber(num):\n",
        "    rem = sum = 0\n",
        "    while(num > 0):\n",
        "        rem = num%10\n",
        "        sum = sum + (rem*rem)\n",
        "        num = num//10\n",
        "    return sum\n",
        "\n",
        "lower = 1; upper = 101;\n",
        "while lower != upper:\n",
        "  num = lower\n",
        "  lower += 1\n",
        "  result = num\n",
        "  while(result != 1 and result != 4):\n",
        "    result = isHappyNumber(result)\n",
        "\n",
        "  #Happy number always ends with 1  \n",
        "  if(result == 1):\n",
        "    print(str(num) + \" is a happy number\")\n",
        "  #Unhappy number ends in a cycle of repeating numbers which contain 4  \n",
        "  elif(result == 4):\n",
        "    print(str(num) + \" is not a happy number\")\n"
      ],
      "metadata": {
        "colab": {
          "base_uri": "https://localhost:8080/"
        },
        "id": "lVFSE1y747H7",
        "outputId": "aea52978-f11d-418a-8d66-96c2abb8414b"
      },
      "execution_count": 4,
      "outputs": [
        {
          "output_type": "stream",
          "name": "stdout",
          "text": [
            "1 is a happy number\n",
            "2 is not a happy number\n",
            "3 is not a happy number\n",
            "4 is not a happy number\n",
            "5 is not a happy number\n",
            "6 is not a happy number\n",
            "7 is a happy number\n",
            "8 is not a happy number\n",
            "9 is not a happy number\n",
            "10 is a happy number\n",
            "11 is not a happy number\n",
            "12 is not a happy number\n",
            "13 is a happy number\n",
            "14 is not a happy number\n",
            "15 is not a happy number\n",
            "16 is not a happy number\n",
            "17 is not a happy number\n",
            "18 is not a happy number\n",
            "19 is a happy number\n",
            "20 is not a happy number\n",
            "21 is not a happy number\n",
            "22 is not a happy number\n",
            "23 is a happy number\n",
            "24 is not a happy number\n",
            "25 is not a happy number\n",
            "26 is not a happy number\n",
            "27 is not a happy number\n",
            "28 is a happy number\n",
            "29 is not a happy number\n",
            "30 is not a happy number\n",
            "31 is a happy number\n",
            "32 is a happy number\n",
            "33 is not a happy number\n",
            "34 is not a happy number\n",
            "35 is not a happy number\n",
            "36 is not a happy number\n",
            "37 is not a happy number\n",
            "38 is not a happy number\n",
            "39 is not a happy number\n",
            "40 is not a happy number\n",
            "41 is not a happy number\n",
            "42 is not a happy number\n",
            "43 is not a happy number\n",
            "44 is a happy number\n",
            "45 is not a happy number\n",
            "46 is not a happy number\n",
            "47 is not a happy number\n",
            "48 is not a happy number\n",
            "49 is a happy number\n",
            "50 is not a happy number\n",
            "51 is not a happy number\n",
            "52 is not a happy number\n",
            "53 is not a happy number\n",
            "54 is not a happy number\n",
            "55 is not a happy number\n",
            "56 is not a happy number\n",
            "57 is not a happy number\n",
            "58 is not a happy number\n",
            "59 is not a happy number\n",
            "60 is not a happy number\n",
            "61 is not a happy number\n",
            "62 is not a happy number\n",
            "63 is not a happy number\n",
            "64 is not a happy number\n",
            "65 is not a happy number\n",
            "66 is not a happy number\n",
            "67 is not a happy number\n",
            "68 is a happy number\n",
            "69 is not a happy number\n",
            "70 is a happy number\n",
            "71 is not a happy number\n",
            "72 is not a happy number\n",
            "73 is not a happy number\n",
            "74 is not a happy number\n",
            "75 is not a happy number\n",
            "76 is not a happy number\n",
            "77 is not a happy number\n",
            "78 is not a happy number\n",
            "79 is a happy number\n",
            "80 is not a happy number\n",
            "81 is not a happy number\n",
            "82 is a happy number\n",
            "83 is not a happy number\n",
            "84 is not a happy number\n",
            "85 is not a happy number\n",
            "86 is a happy number\n",
            "87 is not a happy number\n",
            "88 is not a happy number\n",
            "89 is not a happy number\n",
            "90 is not a happy number\n",
            "91 is a happy number\n",
            "92 is not a happy number\n",
            "93 is not a happy number\n",
            "94 is a happy number\n",
            "95 is not a happy number\n",
            "96 is not a happy number\n",
            "97 is a happy number\n",
            "98 is not a happy number\n",
            "99 is not a happy number\n",
            "100 is a happy number\n"
          ]
        }
      ]
    },
    {
      "cell_type": "markdown",
      "source": [
        "\n",
        "# **5. Write a Python program to determine whether the given number is a Harshad Number?**"
      ],
      "metadata": {
        "id": "RfC1d7j7F0ob"
      }
    },
    {
      "cell_type": "code",
      "source": [
        "num = 156   \n",
        "rem = sum = 0    \n",
        "n = num\n",
        "     \n",
        "while(num > 0):    \n",
        "    rem = num%10  \n",
        "    sum = sum + rem    \n",
        "    num = num//10\n",
        "     \n",
        "#Checks whether the number is divisible by the sum of digits    \n",
        "if(n%sum == 0):    \n",
        "    print(str(n) + \" is a harshad number\") \n",
        "else:    \n",
        "    print(str(n) + \" is not a harshad number\")"
      ],
      "metadata": {
        "colab": {
          "base_uri": "https://localhost:8080/"
        },
        "id": "HGSL2qns47Np",
        "outputId": "b78f28a5-a122-47b4-93c6-bd9ce50ad78c"
      },
      "execution_count": 7,
      "outputs": [
        {
          "output_type": "stream",
          "name": "stdout",
          "text": [
            "156 is a harshad number\n"
          ]
        }
      ]
    },
    {
      "cell_type": "markdown",
      "source": [
        "\n",
        "# **6. Write a Python program to print all pronic numbers between 1 and 100?**"
      ],
      "metadata": {
        "id": "5i2ZjkmgF53C"
      }
    },
    {
      "cell_type": "code",
      "source": [
        "def isPronicNumber(num):    \n",
        "    flag = False        \n",
        "    for j in range(1, num+1):    \n",
        "        if((j*(j+1)) == num):    \n",
        "            flag = True\n",
        "            break\n",
        "    return flag   \n",
        "     \n",
        "#Displays pronic numbers between 1 and 100    \n",
        "print(\"Pronic numbers between 1 and 100: \") \n",
        "for i in range(1, 101):    \n",
        "    if(isPronicNumber(i)):    \n",
        "        print(i, end = \" \")"
      ],
      "metadata": {
        "colab": {
          "base_uri": "https://localhost:8080/"
        },
        "id": "r50OUwt247Tb",
        "outputId": "bcf2dbbe-9ac4-424b-a590-d0067130d86c"
      },
      "execution_count": 10,
      "outputs": [
        {
          "output_type": "stream",
          "name": "stdout",
          "text": [
            "Pronic numbers between 1 and 100: \n",
            "2 6 12 20 30 42 56 72 90 "
          ]
        }
      ]
    }
  ]
}